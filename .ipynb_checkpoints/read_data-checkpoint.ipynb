{
 "cells": [
  {
   "cell_type": "code",
   "execution_count": 1,
   "id": "afb3d7da",
   "metadata": {},
   "outputs": [],
   "source": [
    "import xlrd\n",
    "import numpy as np"
   ]
  },
  {
   "cell_type": "code",
   "execution_count": 2,
   "id": "c4e0116c",
   "metadata": {},
   "outputs": [],
   "source": [
    "import os\n",
    "curr_path = './'\n",
    "ternary_hcp = os.path.join(curr_path, 'HEA_Data/Ternary_sqshcp_POSCAR_Files')\n",
    "ternary_fcc_bcc = os.path.join(curr_path, 'HEA_Data/Ternary_POSCAR_Files')"
   ]
  },
  {
   "cell_type": "code",
   "execution_count": 3,
   "id": "522e835a",
   "metadata": {},
   "outputs": [],
   "source": [
    "CrCo2Pd_sqshcp = os.path.join(ternary_hcp, 'POSCAR_CrCo2Pd_sqshcp')\n",
    "CrCo2Pd_sqsfcc = os.path.join(ternary_fcc_bcc, 'POSCAR_CrCo2Pd_sqsfcc')\n",
    "CrCo2Pd_sqsbcc = os.path.join(ternary_fcc_bcc, 'POSCAR_CrCo2Pd_sqsbcc')"
   ]
  },
  {
   "cell_type": "code",
   "execution_count": 4,
   "id": "3fe82c36",
   "metadata": {},
   "outputs": [],
   "source": [
    "from pymatgen.io.vasp import Poscar\n",
    "from pymatgen.core import Structure\n",
    "from pymatgen.io.ase import AseAtomsAdaptor\n",
    "\n",
    "poscar= Poscar.from_file(CrCo2Pd_sqshcp, check_for_POTCAR=False, read_velocities=True)\n",
    "def get_atom(poscar):\n",
    "    poscar= Poscar.from_file(poscar, check_for_POTCAR=False, read_velocities=True)\n",
    "    struct = poscar.structure\n",
    "    atoms = AseAtomsAdaptor.get_atoms(struct)\n",
    "    return atoms\n",
    "\n",
    "    "
   ]
  },
  {
   "cell_type": "code",
   "execution_count": 5,
   "id": "e0056c8a",
   "metadata": {},
   "outputs": [
    {
     "name": "stdout",
     "output_type": "stream",
     "text": [
      "total number of structures are 64\n",
      "The missing combination are  {'Ni', 'Mn', 'Pd'} \n",
      "\n",
      "The missing combination are  {'Fe', 'Mn', 'Pd'} \n",
      "\n",
      "The missing combination are  {'Mn', 'Cr', 'Pd'} \n",
      "\n",
      "The missing combination are  {'Co', 'Mn', 'Pd'} \n",
      "\n",
      "The alloy systems are {'Fe', 'Ni', 'Co', 'Cr', 'Pd', 'Mn'}\n",
      "The total number of combinations are 16. Theoretically, there should be 20 \n"
     ]
    }
   ],
   "source": [
    "# count the information of different combinations:\n",
    "from collections import defaultdict\n",
    "def count_info(path):\n",
    "    filename = os.listdir(path)\n",
    "    print('total number of structures are {}'.format(len(filename)))\n",
    "    my_dict = defaultdict(int)\n",
    "    for f in filename:\n",
    "        mat = os.path.join(path, f)\n",
    "        poscar = Poscar.from_file(mat)\n",
    "        symbol_set = poscar.structure.symbol_set\n",
    "        my_dict[symbol_set]+=1\n",
    "    return my_dict\n",
    "result = count_info(ternary_hcp)    \n",
    "# print(result)\n",
    "\n",
    "from itertools import combinations\n",
    "total_combinations = list(combinations(['Ni', 'Fe', 'Mn', 'Pd', 'Cr', 'Co'], 3))\n",
    "total_combinations_set = [set(i) for i in total_combinations]\n",
    "# print('total combinations are {} \\n'.format(total_combinations))\n",
    "\n",
    "# obtain the missing combinations.\n",
    "systems = ()\n",
    "systems_cur = []\n",
    "for k in result.keys():\n",
    "    systems +=k\n",
    "    set_k = set(k)\n",
    "    systems_cur.append(set_k)\n",
    "\n",
    "for v in total_combinations_set:\n",
    "    if v not in systems_cur:\n",
    "        print('The missing combination are  {} \\n'.format(v))\n",
    "print('The alloy systems are {}'.format(set(systems)))\n",
    "\n",
    "print('The total number of combinations are {}. Theoretically, there should be {} '.format(len(result), len(total_combinations)))"
   ]
  },
  {
   "cell_type": "code",
   "execution_count": 99,
   "id": "18b8736d",
   "metadata": {},
   "outputs": [
    {
     "name": "stdout",
     "output_type": "stream",
     "text": [
      "['Cr', 'Co', 'Pd']\n",
      "Cr8 Co16 Pd8\n",
      "[Element Cr, Element Cr, Element Cr, Element Cr, Element Cr, Element Cr, Element Cr, Element Cr, Element Co, Element Co, Element Co, Element Co, Element Co, Element Co, Element Co, Element Co, Element Co, Element Co, Element Co, Element Co, Element Co, Element Co, Element Co, Element Co, Element Pd, Element Pd, Element Pd, Element Pd, Element Pd, Element Pd, Element Pd, Element Pd]\n",
      "('Co', 'Cr', 'Pd')\n",
      "('Co', 'Cr', 'Pd')\n",
      "(24, 24, 24, 24, 24, 24, 24, 24, 27, 27, 27, 27, 27, 27, 27, 27, 27, 27, 27, 27, 27, 27, 27, 27, 46, 46, 46, 46, 46, 46, 46, 46)\n",
      "Cr8 Co16 Pd8\n",
      "Co16 Cr8 Pd8\n",
      "Cr8 Co16 Pd8\n",
      "Cr0.25 Co0.5 Pd0.25\n",
      "defaultdict(<class 'float'>, {'Cr': 1.0, 'Co': 2.0, 'Pd': 1.0})\n"
     ]
    }
   ],
   "source": [
    "struct = poscar.structure\n",
    "# print(struct)\n",
    "print(poscar.site_symbols)\n",
    "print(struct.composition)\n",
    "print(struct.species)\n",
    "print(struct.symbol_set)\n",
    "print(struct.symbol_set[:])\n",
    "print(struct.atomic_numbers)\n",
    "print(struct.composition.formula)\n",
    "print(struct.composition.alphabetical_formula)\n",
    "print(struct.composition.element_composition)\n",
    "print(struct.composition.fractional_composition)\n",
    "print(struct.composition.to_reduced_dict)"
   ]
  },
  {
   "cell_type": "code",
   "execution_count": 7,
   "id": "a103bdbe",
   "metadata": {},
   "outputs": [],
   "source": [
    "from pymatgen.symmetry import analyzer"
   ]
  },
  {
   "cell_type": "code",
   "execution_count": 61,
   "id": "df57d4c2",
   "metadata": {},
   "outputs": [
    {
     "name": "stdout",
     "output_type": "stream",
     "text": [
      "32\n"
     ]
    },
    {
     "data": {
      "application/vnd.jupyter.widget-view+json": {
       "model_id": "4aca210a094d4e78932c4e418e878971",
       "version_major": 2,
       "version_minor": 0
      },
      "text/plain": [
       "HBox(children=(NGLWidget(), VBox(children=(Dropdown(description='Show', options=('All', 'Co', 'Cr', 'Pd'), val…"
      ]
     },
     "metadata": {},
     "output_type": "display_data"
    }
   ],
   "source": [
    "# visualization with ase\n",
    "from ase.visualize import view\n",
    "from ase import Atoms\n",
    "# atoms= Atoms('CH4')\n",
    "# view(atoms, viewer='x3d')\n",
    "\n",
    "# visualize poscar\n",
    "from pymatgen.io.ase import AseAtomsAdaptor\n",
    "atoms = AseAtomsAdaptor.get_atoms(struct)\n",
    "print(len(atoms.positions))\n",
    "view(atoms, viewer='ngl')\n",
    "\n",
    "\n"
   ]
  },
  {
   "cell_type": "code",
   "execution_count": 9,
   "id": "fb3eedff",
   "metadata": {},
   "outputs": [
    {
     "data": {
      "application/vnd.jupyter.widget-view+json": {
       "model_id": "2db210c2d18d40b999250976bc158ceb",
       "version_major": 2,
       "version_minor": 0
      },
      "text/plain": [
       "HBox(children=(NGLWidget(), VBox(children=(Dropdown(description='Show', options=('All', 'Co', 'Cr', 'Pd'), val…"
      ]
     },
     "metadata": {},
     "output_type": "display_data"
    }
   ],
   "source": [
    "atoms_bcc = get_atom(CrCo2Pd_sqsbcc)\n",
    "view(atoms_bcc, viewer='ngl')"
   ]
  },
  {
   "cell_type": "code",
   "execution_count": 10,
   "id": "881ecc26",
   "metadata": {},
   "outputs": [
    {
     "name": "stdout",
     "output_type": "stream",
     "text": [
      "TRI(a=8.98596, b=5.23715, c=8.30983, alpha=90.1514, beta=90.4537, gamma=90.1393)\n",
      "1     P 1\n",
      "  setting 1\n",
      "  centrosymmetric 0\n",
      "  primitive vectors\n",
      "     1.0000000000  0.0000000000  0.0000000000\n",
      "     0.0000000000  1.0000000000  0.0000000000\n",
      "     0.0000000000  0.0000000000  1.0000000000\n",
      "  reciprocal vectors\n",
      "      1   0   0\n",
      "      0   1   0\n",
      "      0   0   1\n",
      "  1 subtranslations\n",
      "     0.0000000000  0.0000000000  0.0000000000\n",
      "  1 symmetry operations (rot+trans)\n",
      "    1  0  0     0  1  0     0  0  1    0.0000000000  0.0000000000  0.0000000000\n",
      "\n",
      "\n"
     ]
    }
   ],
   "source": [
    "print(atoms.cell.get_bravais_lattice())\n",
    "# from gpaw import GPAW, PW\n",
    "\n",
    "# infer the spacegroup\n",
    "from ase.spacegroup import get_basis, get_spacegroup, Spacegroup\n",
    "# get_basis(atoms)\n",
    "get_spacegroup(atoms_bcc, symprec=1e-04)\n",
    "sg = Spacegroup(1)\n",
    "print(sg)\n",
    "\n"
   ]
  },
  {
   "cell_type": "code",
   "execution_count": 11,
   "id": "ec089a30",
   "metadata": {},
   "outputs": [
    {
     "data": {
      "text/plain": [
       "'triclinic'"
      ]
     },
     "execution_count": 11,
     "metadata": {},
     "output_type": "execute_result"
    }
   ],
   "source": [
    "analyzer.SpacegroupAnalyzer(struct).get_crystal_system()"
   ]
  },
  {
   "cell_type": "code",
   "execution_count": 12,
   "id": "06a989b0",
   "metadata": {},
   "outputs": [],
   "source": [
    "def get_crystal_system(poscar_file):\n",
    "    poscar= Poscar.from_file(poscar_file, check_for_POTCAR=False, read_velocities=True)\n",
    "    struct = poscar.structure\n",
    "    cs = analyzer.SpacegroupAnalyzer(struct).get_crystal_system()\n",
    "    return cs"
   ]
  },
  {
   "cell_type": "code",
   "execution_count": 52,
   "id": "7c95b280",
   "metadata": {},
   "outputs": [
    {
     "name": "stdout",
     "output_type": "stream",
     "text": [
      "Cell([[0.0, 1.8, 1.8], [1.8, 0.0, 1.8], [1.8, 1.8, 0.0]])\n"
     ]
    },
    {
     "data": {
      "application/vnd.jupyter.widget-view+json": {
       "model_id": "23be0a08aea1411187426c1cd9902bf3",
       "version_major": 2,
       "version_minor": 0
      },
      "text/plain": [
       "HBox(children=(NGLWidget(), VBox(children=(Dropdown(description='Show', options=('All', 'Cu'), value='All'), D…"
      ]
     },
     "metadata": {},
     "output_type": "display_data"
    }
   ],
   "source": [
    "test = os.path.join(ternary_fcc_bcc, 'POSCAR_NiCoPd_sqsbcc')\n",
    "get_crystal_system(test)\n",
    "from ase.build import bulk\n",
    "a1 = bulk('Cu', crystalstructure='fcc', a=3.6)\n",
    "a2 = bulk('Cu', crystalstructure='fcc', a=3.6, cubic=True)\n",
    "# view(a1, viewer='ngl')\n",
    "print(a1.cell)\n",
    "view(a2, viewer='ngl')"
   ]
  },
  {
   "cell_type": "code",
   "execution_count": 56,
   "id": "1a82f89f",
   "metadata": {},
   "outputs": [
    {
     "name": "stdout",
     "output_type": "stream",
     "text": [
      "icet.orbit_list: INFO  Done getting matrix_of_equivalent_positions.\n",
      "icet.orbit_list: INFO  Done getting neighbor lists.\n",
      "icet.orbit_list: INFO  Transformation of matrix of equivalent positions to lattice neighbor format completed.\n",
      "icet.orbit_list: INFO  Finished construction of orbit list.\n",
      "====================================== Cluster Space ======================================\n",
      " space group                            : Fm-3m (225)\n",
      " chemical species                       : ['Au', 'Pd'] (sublattice A)\n",
      " cutoffs                                : 8.0000 4.0000\n",
      " total number of parameters             : 14\n",
      " number of parameters by order          : 0= 1  1= 1  2= 10  3= 2\n",
      " fractional_position_tolerance          : 2e-06\n",
      " position_tolerance                     : 1e-05\n",
      " symprec                                : 1e-05\n",
      "-------------------------------------------------------------------------------------------\n",
      "index | order |  radius  | multiplicity | orbit_index | multicomponent_vector | sublattices\n",
      "-------------------------------------------------------------------------------------------\n",
      "   0  |   0   |   0.0000 |        1     |      -1     |           .           |      .     \n",
      "   1  |   1   |   0.0000 |        1     |       0     |          [0]          |      A     \n",
      "   2  |   2   |   1.2728 |        6     |       1     |        [0, 0]         |     A-A    \n",
      "   3  |   2   |   1.8000 |        3     |       2     |        [0, 0]         |     A-A    \n",
      "   4  |   2   |   2.2045 |       12     |       3     |        [0, 0]         |     A-A    \n",
      "   5  |   2   |   2.5456 |        6     |       4     |        [0, 0]         |     A-A    \n",
      "   6  |   2   |   2.8460 |       12     |       5     |        [0, 0]         |     A-A    \n",
      "   7  |   2   |   3.1177 |        4     |       6     |        [0, 0]         |     A-A    \n",
      "   8  |   2   |   3.3675 |       24     |       7     |        [0, 0]         |     A-A    \n",
      "   9  |   2   |   3.6000 |        3     |       8     |        [0, 0]         |     A-A    \n",
      "  10  |   2   |   3.8184 |        6     |       9     |        [0, 0]         |     A-A    \n",
      "  11  |   2   |   3.8184 |       12     |      10     |        [0, 0]         |     A-A    \n",
      "  12  |   3   |   1.4697 |        8     |      11     |       [0, 0, 0]       |    A-A-A   \n",
      "  13  |   3   |   1.6649 |       12     |      12     |       [0, 0, 0]       |    A-A-A   \n",
      "===========================================================================================\n",
      "icet.target_cluster_vector_annealing: INFO  Initializing target cluster vector annealing with 184 supercells\n",
      "icet.target_cluster_vector_annealing: INFO  MC step 0/552000 (0 accepted trials, temperature 5.000), best score: 2.727\n",
      "icet.target_cluster_vector_annealing: INFO  MC step 1000/552000 (800 accepted trials, temperature 2.388), best score: -1.133\n",
      "icet.target_cluster_vector_annealing: INFO  MC step 2000/552000 (1556 accepted trials, temperature 2.126), best score: -1.425\n",
      "icet.target_cluster_vector_annealing: INFO  MC step 3000/552000 (2280 accepted trials, temperature 1.973), best score: -1.488\n",
      "icet.target_cluster_vector_annealing: INFO  MC step 4000/552000 (2985 accepted trials, temperature 1.864), best score: -2.367\n",
      "icet.target_cluster_vector_annealing: INFO  MC step 5000/552000 (3705 accepted trials, temperature 1.780), best score: -2.367\n",
      "icet.target_cluster_vector_annealing: INFO  MC step 6000/552000 (4391 accepted trials, temperature 1.711), best score: -2.367\n",
      "icet.target_cluster_vector_annealing: INFO  MC step 7000/552000 (5055 accepted trials, temperature 1.652), best score: -2.367\n",
      "icet.target_cluster_vector_annealing: INFO  MC step 8000/552000 (5753 accepted trials, temperature 1.602), best score: -2.367\n",
      "icet.target_cluster_vector_annealing: INFO  MC step 9000/552000 (6428 accepted trials, temperature 1.557), best score: -2.367\n",
      "icet.target_cluster_vector_annealing: INFO  MC step 10000/552000 (7101 accepted trials, temperature 1.518), best score: -2.367\n",
      "icet.target_cluster_vector_annealing: INFO  MC step 11000/552000 (7771 accepted trials, temperature 1.482), best score: -2.367\n",
      "icet.target_cluster_vector_annealing: INFO  MC step 12000/552000 (8422 accepted trials, temperature 1.449), best score: -2.367\n",
      "icet.target_cluster_vector_annealing: INFO  MC step 13000/552000 (9052 accepted trials, temperature 1.418), best score: -2.367\n",
      "icet.target_cluster_vector_annealing: INFO  MC step 14000/552000 (9638 accepted trials, temperature 1.390), best score: -2.367\n",
      "icet.target_cluster_vector_annealing: INFO  MC step 15000/552000 (10270 accepted trials, temperature 1.364), best score: -2.367\n",
      "icet.target_cluster_vector_annealing: INFO  MC step 16000/552000 (10854 accepted trials, temperature 1.340), best score: -2.367\n",
      "icet.target_cluster_vector_annealing: INFO  MC step 17000/552000 (11436 accepted trials, temperature 1.317), best score: -2.367\n",
      "icet.target_cluster_vector_annealing: INFO  MC step 18000/552000 (12033 accepted trials, temperature 1.295), best score: -2.367\n",
      "icet.target_cluster_vector_annealing: INFO  MC step 19000/552000 (12665 accepted trials, temperature 1.275), best score: -2.367\n",
      "icet.target_cluster_vector_annealing: INFO  MC step 20000/552000 (13292 accepted trials, temperature 1.255), best score: -2.367\n",
      "icet.target_cluster_vector_annealing: INFO  MC step 21000/552000 (13863 accepted trials, temperature 1.237), best score: -2.367\n",
      "icet.target_cluster_vector_annealing: INFO  MC step 22000/552000 (14456 accepted trials, temperature 1.219), best score: -2.367\n",
      "icet.target_cluster_vector_annealing: INFO  MC step 23000/552000 (15011 accepted trials, temperature 1.203), best score: -2.367\n",
      "icet.target_cluster_vector_annealing: INFO  MC step 24000/552000 (15585 accepted trials, temperature 1.187), best score: -2.367\n",
      "icet.target_cluster_vector_annealing: INFO  MC step 25000/552000 (16133 accepted trials, temperature 1.171), best score: -2.367\n",
      "icet.target_cluster_vector_annealing: INFO  MC step 26000/552000 (16715 accepted trials, temperature 1.156), best score: -2.367\n",
      "icet.target_cluster_vector_annealing: INFO  MC step 27000/552000 (17236 accepted trials, temperature 1.142), best score: -2.367\n",
      "icet.target_cluster_vector_annealing: INFO  MC step 28000/552000 (17809 accepted trials, temperature 1.128), best score: -2.367\n",
      "icet.target_cluster_vector_annealing: INFO  MC step 29000/552000 (18363 accepted trials, temperature 1.115), best score: -2.367\n",
      "icet.target_cluster_vector_annealing: INFO  MC step 30000/552000 (18906 accepted trials, temperature 1.102), best score: -2.367\n",
      "icet.target_cluster_vector_annealing: INFO  MC step 31000/552000 (19448 accepted trials, temperature 1.090), best score: -2.367\n",
      "icet.target_cluster_vector_annealing: INFO  MC step 32000/552000 (19943 accepted trials, temperature 1.078), best score: -2.367\n",
      "icet.target_cluster_vector_annealing: INFO  MC step 33000/552000 (20460 accepted trials, temperature 1.066), best score: -2.367\n",
      "icet.target_cluster_vector_annealing: INFO  MC step 34000/552000 (20924 accepted trials, temperature 1.055), best score: -2.367\n",
      "icet.target_cluster_vector_annealing: INFO  MC step 35000/552000 (21456 accepted trials, temperature 1.044), best score: -2.367\n",
      "icet.target_cluster_vector_annealing: INFO  MC step 36000/552000 (22004 accepted trials, temperature 1.033), best score: -2.367\n",
      "icet.target_cluster_vector_annealing: INFO  MC step 37000/552000 (22528 accepted trials, temperature 1.023), best score: -2.367\n",
      "icet.target_cluster_vector_annealing: INFO  MC step 38000/552000 (22956 accepted trials, temperature 1.013), best score: -2.367\n",
      "icet.target_cluster_vector_annealing: INFO  MC step 39000/552000 (23451 accepted trials, temperature 1.003), best score: -2.367\n",
      "icet.target_cluster_vector_annealing: INFO  MC step 40000/552000 (23912 accepted trials, temperature 0.993), best score: -2.367\n",
      "icet.target_cluster_vector_annealing: INFO  MC step 41000/552000 (24410 accepted trials, temperature 0.984), best score: -2.367\n",
      "icet.target_cluster_vector_annealing: INFO  MC step 42000/552000 (24861 accepted trials, temperature 0.975), best score: -2.367\n",
      "icet.target_cluster_vector_annealing: INFO  MC step 43000/552000 (25379 accepted trials, temperature 0.966), best score: -2.367\n",
      "icet.target_cluster_vector_annealing: INFO  MC step 44000/552000 (25826 accepted trials, temperature 0.957), best score: -2.367\n"
     ]
    },
    {
     "name": "stdout",
     "output_type": "stream",
     "text": [
      "icet.target_cluster_vector_annealing: INFO  MC step 45000/552000 (26321 accepted trials, temperature 0.949), best score: -2.367\n",
      "icet.target_cluster_vector_annealing: INFO  MC step 46000/552000 (26836 accepted trials, temperature 0.941), best score: -2.367\n",
      "icet.target_cluster_vector_annealing: INFO  MC step 47000/552000 (27357 accepted trials, temperature 0.932), best score: -2.367\n",
      "icet.target_cluster_vector_annealing: INFO  MC step 48000/552000 (27845 accepted trials, temperature 0.924), best score: -2.367\n",
      "icet.target_cluster_vector_annealing: INFO  MC step 49000/552000 (28288 accepted trials, temperature 0.917), best score: -2.367\n",
      "icet.target_cluster_vector_annealing: INFO  MC step 50000/552000 (28732 accepted trials, temperature 0.909), best score: -2.367\n",
      "icet.target_cluster_vector_annealing: INFO  MC step 51000/552000 (29116 accepted trials, temperature 0.902), best score: -2.367\n",
      "icet.target_cluster_vector_annealing: INFO  MC step 52000/552000 (29491 accepted trials, temperature 0.894), best score: -2.367\n",
      "icet.target_cluster_vector_annealing: INFO  MC step 53000/552000 (29993 accepted trials, temperature 0.887), best score: -2.367\n",
      "icet.target_cluster_vector_annealing: INFO  MC step 54000/552000 (30481 accepted trials, temperature 0.880), best score: -2.367\n",
      "icet.target_cluster_vector_annealing: INFO  MC step 55000/552000 (30947 accepted trials, temperature 0.873), best score: -2.367\n",
      "icet.target_cluster_vector_annealing: INFO  MC step 56000/552000 (31398 accepted trials, temperature 0.866), best score: -2.367\n",
      "icet.target_cluster_vector_annealing: INFO  MC step 57000/552000 (31883 accepted trials, temperature 0.859), best score: -2.367\n",
      "icet.target_cluster_vector_annealing: INFO  MC step 58000/552000 (32360 accepted trials, temperature 0.853), best score: -2.367\n",
      "icet.target_cluster_vector_annealing: INFO  MC step 59000/552000 (32806 accepted trials, temperature 0.846), best score: -2.367\n",
      "icet.target_cluster_vector_annealing: INFO  MC step 60000/552000 (33250 accepted trials, temperature 0.840), best score: -2.367\n",
      "icet.target_cluster_vector_annealing: INFO  MC step 61000/552000 (33658 accepted trials, temperature 0.834), best score: -2.367\n",
      "icet.target_cluster_vector_annealing: INFO  MC step 62000/552000 (34068 accepted trials, temperature 0.828), best score: -2.367\n",
      "icet.target_cluster_vector_annealing: INFO  MC step 63000/552000 (34473 accepted trials, temperature 0.822), best score: -2.367\n",
      "icet.target_cluster_vector_annealing: INFO  MC step 64000/552000 (34896 accepted trials, temperature 0.816), best score: -2.367\n",
      "icet.target_cluster_vector_annealing: INFO  MC step 65000/552000 (35300 accepted trials, temperature 0.810), best score: -2.367\n",
      "icet.target_cluster_vector_annealing: INFO  MC step 66000/552000 (35695 accepted trials, temperature 0.804), best score: -2.367\n",
      "icet.target_cluster_vector_annealing: INFO  MC step 67000/552000 (36047 accepted trials, temperature 0.798), best score: -2.367\n",
      "icet.target_cluster_vector_annealing: INFO  MC step 68000/552000 (36443 accepted trials, temperature 0.793), best score: -2.367\n",
      "icet.target_cluster_vector_annealing: INFO  MC step 69000/552000 (36828 accepted trials, temperature 0.787), best score: -2.367\n",
      "icet.target_cluster_vector_annealing: INFO  MC step 70000/552000 (37201 accepted trials, temperature 0.782), best score: -2.367\n",
      "icet.target_cluster_vector_annealing: INFO  MC step 71000/552000 (37541 accepted trials, temperature 0.776), best score: -2.367\n",
      "icet.target_cluster_vector_annealing: INFO  MC step 72000/552000 (37873 accepted trials, temperature 0.771), best score: -2.367\n",
      "icet.target_cluster_vector_annealing: INFO  MC step 73000/552000 (38244 accepted trials, temperature 0.766), best score: -2.367\n",
      "icet.target_cluster_vector_annealing: INFO  MC step 74000/552000 (38550 accepted trials, temperature 0.761), best score: -2.367\n",
      "icet.target_cluster_vector_annealing: INFO  MC step 75000/552000 (38900 accepted trials, temperature 0.756), best score: -2.367\n",
      "icet.target_cluster_vector_annealing: INFO  MC step 76000/552000 (39273 accepted trials, temperature 0.751), best score: -2.367\n",
      "icet.target_cluster_vector_annealing: INFO  MC step 77000/552000 (39670 accepted trials, temperature 0.746), best score: -2.367\n",
      "icet.target_cluster_vector_annealing: INFO  MC step 78000/552000 (40030 accepted trials, temperature 0.741), best score: -2.367\n",
      "icet.target_cluster_vector_annealing: INFO  MC step 79000/552000 (40392 accepted trials, temperature 0.736), best score: -2.367\n",
      "icet.target_cluster_vector_annealing: INFO  MC step 80000/552000 (40712 accepted trials, temperature 0.731), best score: -2.367\n",
      "icet.target_cluster_vector_annealing: INFO  MC step 81000/552000 (41081 accepted trials, temperature 0.727), best score: -2.367\n",
      "icet.target_cluster_vector_annealing: INFO  MC step 82000/552000 (41379 accepted trials, temperature 0.722), best score: -2.367\n",
      "icet.target_cluster_vector_annealing: INFO  MC step 83000/552000 (41724 accepted trials, temperature 0.717), best score: -2.367\n",
      "icet.target_cluster_vector_annealing: INFO  MC step 84000/552000 (42146 accepted trials, temperature 0.713), best score: -2.367\n",
      "icet.target_cluster_vector_annealing: INFO  MC step 85000/552000 (42464 accepted trials, temperature 0.708), best score: -2.367\n",
      "icet.target_cluster_vector_annealing: INFO  MC step 86000/552000 (42863 accepted trials, temperature 0.704), best score: -2.367\n",
      "icet.target_cluster_vector_annealing: INFO  MC step 87000/552000 (43213 accepted trials, temperature 0.700), best score: -2.367\n",
      "icet.target_cluster_vector_annealing: INFO  MC step 88000/552000 (43521 accepted trials, temperature 0.695), best score: -2.367\n",
      "icet.target_cluster_vector_annealing: INFO  MC step 89000/552000 (43872 accepted trials, temperature 0.691), best score: -2.367\n",
      "icet.target_cluster_vector_annealing: INFO  MC step 90000/552000 (44185 accepted trials, temperature 0.687), best score: -2.367\n",
      "icet.target_cluster_vector_annealing: INFO  MC step 91000/552000 (44545 accepted trials, temperature 0.683), best score: -2.367\n",
      "icet.target_cluster_vector_annealing: INFO  MC step 92000/552000 (44888 accepted trials, temperature 0.678), best score: -2.367\n",
      "icet.target_cluster_vector_annealing: INFO  MC step 93000/552000 (45196 accepted trials, temperature 0.674), best score: -2.367\n",
      "icet.target_cluster_vector_annealing: INFO  MC step 94000/552000 (45504 accepted trials, temperature 0.670), best score: -2.367\n",
      "icet.target_cluster_vector_annealing: INFO  MC step 95000/552000 (45799 accepted trials, temperature 0.666), best score: -2.367\n",
      "icet.target_cluster_vector_annealing: INFO  MC step 96000/552000 (46143 accepted trials, temperature 0.662), best score: -2.367\n",
      "icet.target_cluster_vector_annealing: INFO  MC step 97000/552000 (46448 accepted trials, temperature 0.658), best score: -2.367\n",
      "icet.target_cluster_vector_annealing: INFO  MC step 98000/552000 (46679 accepted trials, temperature 0.655), best score: -2.367\n",
      "icet.target_cluster_vector_annealing: INFO  MC step 99000/552000 (46981 accepted trials, temperature 0.651), best score: -2.367\n",
      "icet.target_cluster_vector_annealing: INFO  MC step 100000/552000 (47295 accepted trials, temperature 0.647), best score: -2.367\n",
      "icet.target_cluster_vector_annealing: INFO  MC step 101000/552000 (47528 accepted trials, temperature 0.643), best score: -2.367\n",
      "icet.target_cluster_vector_annealing: INFO  MC step 102000/552000 (47800 accepted trials, temperature 0.639), best score: -2.367\n",
      "icet.target_cluster_vector_annealing: INFO  MC step 103000/552000 (48118 accepted trials, temperature 0.636), best score: -2.367\n",
      "icet.target_cluster_vector_annealing: INFO  MC step 104000/552000 (48373 accepted trials, temperature 0.632), best score: -2.367\n",
      "icet.target_cluster_vector_annealing: INFO  MC step 105000/552000 (48673 accepted trials, temperature 0.628), best score: -2.367\n",
      "icet.target_cluster_vector_annealing: INFO  MC step 106000/552000 (48912 accepted trials, temperature 0.625), best score: -2.367\n",
      "icet.target_cluster_vector_annealing: INFO  MC step 107000/552000 (49193 accepted trials, temperature 0.621), best score: -2.367\n",
      "icet.target_cluster_vector_annealing: INFO  MC step 108000/552000 (49395 accepted trials, temperature 0.618), best score: -2.367\n"
     ]
    },
    {
     "name": "stdout",
     "output_type": "stream",
     "text": [
      "icet.target_cluster_vector_annealing: INFO  MC step 109000/552000 (49701 accepted trials, temperature 0.614), best score: -2.367\n",
      "icet.target_cluster_vector_annealing: INFO  MC step 110000/552000 (49920 accepted trials, temperature 0.611), best score: -2.367\n",
      "icet.target_cluster_vector_annealing: INFO  MC step 111000/552000 (50143 accepted trials, temperature 0.607), best score: -2.367\n",
      "icet.target_cluster_vector_annealing: INFO  MC step 112000/552000 (50380 accepted trials, temperature 0.604), best score: -2.367\n",
      "icet.target_cluster_vector_annealing: INFO  MC step 113000/552000 (50560 accepted trials, temperature 0.601), best score: -2.367\n",
      "icet.target_cluster_vector_annealing: INFO  MC step 114000/552000 (50832 accepted trials, temperature 0.597), best score: -2.367\n",
      "icet.target_cluster_vector_annealing: INFO  MC step 115000/552000 (51112 accepted trials, temperature 0.594), best score: -2.367\n",
      "icet.target_cluster_vector_annealing: INFO  MC step 116000/552000 (51393 accepted trials, temperature 0.591), best score: -2.367\n",
      "icet.target_cluster_vector_annealing: INFO  MC step 117000/552000 (51538 accepted trials, temperature 0.588), best score: -2.367\n",
      "icet.target_cluster_vector_annealing: INFO  MC step 118000/552000 (51744 accepted trials, temperature 0.584), best score: -2.367\n",
      "icet.target_cluster_vector_annealing: INFO  MC step 119000/552000 (51902 accepted trials, temperature 0.581), best score: -2.367\n",
      "icet.target_cluster_vector_annealing: INFO  MC step 120000/552000 (52175 accepted trials, temperature 0.578), best score: -2.367\n",
      "icet.target_cluster_vector_annealing: INFO  MC step 121000/552000 (52377 accepted trials, temperature 0.575), best score: -2.367\n",
      "icet.target_cluster_vector_annealing: INFO  MC step 122000/552000 (52609 accepted trials, temperature 0.572), best score: -2.367\n",
      "icet.target_cluster_vector_annealing: INFO  MC step 123000/552000 (52856 accepted trials, temperature 0.569), best score: -2.367\n",
      "icet.target_cluster_vector_annealing: INFO  MC step 124000/552000 (53027 accepted trials, temperature 0.566), best score: -2.367\n",
      "icet.target_cluster_vector_annealing: INFO  MC step 125000/552000 (53188 accepted trials, temperature 0.563), best score: -2.367\n",
      "icet.target_cluster_vector_annealing: INFO  MC step 126000/552000 (53466 accepted trials, temperature 0.560), best score: -2.367\n",
      "icet.target_cluster_vector_annealing: INFO  MC step 127000/552000 (53711 accepted trials, temperature 0.557), best score: -2.367\n",
      "icet.target_cluster_vector_annealing: INFO  MC step 128000/552000 (53926 accepted trials, temperature 0.554), best score: -2.367\n",
      "icet.target_cluster_vector_annealing: INFO  MC step 129000/552000 (54141 accepted trials, temperature 0.551), best score: -2.367\n",
      "icet.target_cluster_vector_annealing: INFO  MC step 130000/552000 (54289 accepted trials, temperature 0.548), best score: -2.367\n",
      "icet.target_cluster_vector_annealing: INFO  MC step 131000/552000 (54437 accepted trials, temperature 0.545), best score: -2.367\n",
      "icet.target_cluster_vector_annealing: INFO  MC step 132000/552000 (54609 accepted trials, temperature 0.542), best score: -2.367\n",
      "icet.target_cluster_vector_annealing: INFO  MC step 133000/552000 (54771 accepted trials, temperature 0.539), best score: -2.367\n",
      "icet.target_cluster_vector_annealing: INFO  MC step 134000/552000 (54976 accepted trials, temperature 0.536), best score: -2.367\n",
      "icet.target_cluster_vector_annealing: INFO  MC step 135000/552000 (55222 accepted trials, temperature 0.533), best score: -2.367\n",
      "icet.target_cluster_vector_annealing: INFO  MC step 136000/552000 (55460 accepted trials, temperature 0.531), best score: -2.367\n",
      "icet.target_cluster_vector_annealing: INFO  MC step 137000/552000 (55626 accepted trials, temperature 0.528), best score: -2.367\n",
      "icet.target_cluster_vector_annealing: INFO  MC step 138000/552000 (55809 accepted trials, temperature 0.525), best score: -2.367\n",
      "icet.target_cluster_vector_annealing: INFO  MC step 139000/552000 (56037 accepted trials, temperature 0.522), best score: -2.367\n",
      "icet.target_cluster_vector_annealing: INFO  MC step 140000/552000 (56187 accepted trials, temperature 0.520), best score: -2.367\n",
      "icet.target_cluster_vector_annealing: INFO  MC step 141000/552000 (56364 accepted trials, temperature 0.517), best score: -2.367\n",
      "icet.target_cluster_vector_annealing: INFO  MC step 142000/552000 (56538 accepted trials, temperature 0.514), best score: -2.367\n",
      "icet.target_cluster_vector_annealing: INFO  MC step 143000/552000 (56746 accepted trials, temperature 0.512), best score: -2.367\n",
      "icet.target_cluster_vector_annealing: INFO  MC step 144000/552000 (56951 accepted trials, temperature 0.509), best score: -2.367\n",
      "icet.target_cluster_vector_annealing: INFO  MC step 145000/552000 (57162 accepted trials, temperature 0.506), best score: -2.367\n",
      "icet.target_cluster_vector_annealing: INFO  MC step 146000/552000 (57388 accepted trials, temperature 0.504), best score: -2.367\n",
      "icet.target_cluster_vector_annealing: INFO  MC step 147000/552000 (57560 accepted trials, temperature 0.501), best score: -2.367\n",
      "icet.target_cluster_vector_annealing: INFO  MC step 148000/552000 (57739 accepted trials, temperature 0.499), best score: -2.367\n",
      "icet.target_cluster_vector_annealing: INFO  MC step 149000/552000 (57931 accepted trials, temperature 0.496), best score: -2.367\n",
      "icet.target_cluster_vector_annealing: INFO  MC step 150000/552000 (58085 accepted trials, temperature 0.494), best score: -2.367\n",
      "icet.target_cluster_vector_annealing: INFO  MC step 151000/552000 (58232 accepted trials, temperature 0.491), best score: -2.367\n",
      "icet.target_cluster_vector_annealing: INFO  MC step 152000/552000 (58318 accepted trials, temperature 0.489), best score: -2.367\n",
      "icet.target_cluster_vector_annealing: INFO  MC step 153000/552000 (58448 accepted trials, temperature 0.486), best score: -2.367\n",
      "icet.target_cluster_vector_annealing: INFO  MC step 154000/552000 (58637 accepted trials, temperature 0.484), best score: -2.367\n",
      "icet.target_cluster_vector_annealing: INFO  MC step 155000/552000 (58790 accepted trials, temperature 0.481), best score: -2.367\n",
      "icet.target_cluster_vector_annealing: INFO  MC step 156000/552000 (59034 accepted trials, temperature 0.479), best score: -2.367\n",
      "icet.target_cluster_vector_annealing: INFO  MC step 157000/552000 (59189 accepted trials, temperature 0.476), best score: -2.367\n",
      "icet.target_cluster_vector_annealing: INFO  MC step 158000/552000 (59328 accepted trials, temperature 0.474), best score: -2.367\n",
      "icet.target_cluster_vector_annealing: INFO  MC step 159000/552000 (59404 accepted trials, temperature 0.472), best score: -2.367\n",
      "icet.target_cluster_vector_annealing: INFO  MC step 160000/552000 (59517 accepted trials, temperature 0.469), best score: -2.367\n",
      "icet.target_cluster_vector_annealing: INFO  MC step 161000/552000 (59759 accepted trials, temperature 0.467), best score: -2.367\n",
      "icet.target_cluster_vector_annealing: INFO  MC step 162000/552000 (59950 accepted trials, temperature 0.465), best score: -2.367\n",
      "icet.target_cluster_vector_annealing: INFO  MC step 163000/552000 (60116 accepted trials, temperature 0.462), best score: -2.367\n",
      "icet.target_cluster_vector_annealing: INFO  MC step 164000/552000 (60281 accepted trials, temperature 0.460), best score: -2.367\n",
      "icet.target_cluster_vector_annealing: INFO  MC step 165000/552000 (60413 accepted trials, temperature 0.458), best score: -2.367\n",
      "icet.target_cluster_vector_annealing: INFO  MC step 166000/552000 (60561 accepted trials, temperature 0.455), best score: -2.367\n",
      "icet.target_cluster_vector_annealing: INFO  MC step 167000/552000 (60703 accepted trials, temperature 0.453), best score: -2.367\n",
      "icet.target_cluster_vector_annealing: INFO  MC step 168000/552000 (60833 accepted trials, temperature 0.451), best score: -2.367\n",
      "icet.target_cluster_vector_annealing: INFO  MC step 169000/552000 (60984 accepted trials, temperature 0.449), best score: -2.367\n",
      "icet.target_cluster_vector_annealing: INFO  MC step 170000/552000 (61112 accepted trials, temperature 0.446), best score: -2.367\n",
      "icet.target_cluster_vector_annealing: INFO  MC step 171000/552000 (61198 accepted trials, temperature 0.444), best score: -2.367\n",
      "icet.target_cluster_vector_annealing: INFO  MC step 172000/552000 (61345 accepted trials, temperature 0.442), best score: -2.367\n"
     ]
    },
    {
     "name": "stdout",
     "output_type": "stream",
     "text": [
      "icet.target_cluster_vector_annealing: INFO  MC step 173000/552000 (61419 accepted trials, temperature 0.440), best score: -2.367\n",
      "icet.target_cluster_vector_annealing: INFO  MC step 174000/552000 (61522 accepted trials, temperature 0.438), best score: -2.367\n",
      "icet.target_cluster_vector_annealing: INFO  MC step 175000/552000 (61579 accepted trials, temperature 0.435), best score: -2.367\n",
      "icet.target_cluster_vector_annealing: INFO  MC step 176000/552000 (61712 accepted trials, temperature 0.433), best score: -2.367\n",
      "icet.target_cluster_vector_annealing: INFO  MC step 177000/552000 (61827 accepted trials, temperature 0.431), best score: -2.367\n",
      "icet.target_cluster_vector_annealing: INFO  MC step 178000/552000 (61949 accepted trials, temperature 0.429), best score: -2.367\n",
      "icet.target_cluster_vector_annealing: INFO  MC step 179000/552000 (62020 accepted trials, temperature 0.427), best score: -2.367\n",
      "icet.target_cluster_vector_annealing: INFO  MC step 180000/552000 (62118 accepted trials, temperature 0.425), best score: -2.367\n",
      "icet.target_cluster_vector_annealing: INFO  MC step 181000/552000 (62251 accepted trials, temperature 0.423), best score: -2.367\n",
      "icet.target_cluster_vector_annealing: INFO  MC step 182000/552000 (62350 accepted trials, temperature 0.421), best score: -2.367\n",
      "icet.target_cluster_vector_annealing: INFO  MC step 183000/552000 (62467 accepted trials, temperature 0.418), best score: -2.367\n",
      "icet.target_cluster_vector_annealing: INFO  MC step 184000/552000 (62597 accepted trials, temperature 0.416), best score: -2.367\n",
      "icet.target_cluster_vector_annealing: INFO  MC step 185000/552000 (62673 accepted trials, temperature 0.414), best score: -2.367\n",
      "icet.target_cluster_vector_annealing: INFO  MC step 186000/552000 (62750 accepted trials, temperature 0.412), best score: -2.367\n",
      "icet.target_cluster_vector_annealing: INFO  MC step 187000/552000 (62807 accepted trials, temperature 0.410), best score: -2.367\n",
      "icet.target_cluster_vector_annealing: INFO  MC step 188000/552000 (62877 accepted trials, temperature 0.408), best score: -2.367\n",
      "icet.target_cluster_vector_annealing: INFO  MC step 189000/552000 (62881 accepted trials, temperature 0.406), best score: -2.367\n",
      "icet.target_cluster_vector_annealing: INFO  MC step 190000/552000 (62965 accepted trials, temperature 0.404), best score: -2.367\n",
      "icet.target_cluster_vector_annealing: INFO  MC step 191000/552000 (63025 accepted trials, temperature 0.402), best score: -2.367\n",
      "icet.target_cluster_vector_annealing: INFO  MC step 192000/552000 (63111 accepted trials, temperature 0.400), best score: -2.367\n",
      "icet.target_cluster_vector_annealing: INFO  MC step 193000/552000 (63216 accepted trials, temperature 0.398), best score: -2.367\n",
      "icet.target_cluster_vector_annealing: INFO  MC step 194000/552000 (63258 accepted trials, temperature 0.396), best score: -2.367\n",
      "icet.target_cluster_vector_annealing: INFO  MC step 195000/552000 (63330 accepted trials, temperature 0.394), best score: -2.367\n",
      "icet.target_cluster_vector_annealing: INFO  MC step 196000/552000 (63409 accepted trials, temperature 0.392), best score: -2.367\n",
      "icet.target_cluster_vector_annealing: INFO  MC step 197000/552000 (63469 accepted trials, temperature 0.391), best score: -2.367\n",
      "icet.target_cluster_vector_annealing: INFO  MC step 198000/552000 (63513 accepted trials, temperature 0.389), best score: -2.367\n",
      "icet.target_cluster_vector_annealing: INFO  MC step 199000/552000 (63626 accepted trials, temperature 0.387), best score: -2.367\n",
      "icet.target_cluster_vector_annealing: INFO  MC step 200000/552000 (63745 accepted trials, temperature 0.385), best score: -2.367\n",
      "icet.target_cluster_vector_annealing: INFO  MC step 201000/552000 (63746 accepted trials, temperature 0.383), best score: -2.367\n",
      "icet.target_cluster_vector_annealing: INFO  MC step 202000/552000 (63770 accepted trials, temperature 0.381), best score: -2.367\n",
      "icet.target_cluster_vector_annealing: INFO  MC step 203000/552000 (63777 accepted trials, temperature 0.379), best score: -2.367\n",
      "icet.target_cluster_vector_annealing: INFO  MC step 204000/552000 (63777 accepted trials, temperature 0.377), best score: -2.367\n",
      "icet.target_cluster_vector_annealing: INFO  MC step 205000/552000 (63784 accepted trials, temperature 0.376), best score: -2.367\n",
      "icet.target_cluster_vector_annealing: INFO  MC step 206000/552000 (63848 accepted trials, temperature 0.374), best score: -2.367\n",
      "icet.target_cluster_vector_annealing: INFO  MC step 207000/552000 (63968 accepted trials, temperature 0.372), best score: -2.367\n",
      "icet.target_cluster_vector_annealing: INFO  MC step 208000/552000 (64009 accepted trials, temperature 0.370), best score: -2.367\n",
      "icet.target_cluster_vector_annealing: INFO  MC step 209000/552000 (64025 accepted trials, temperature 0.368), best score: -2.367\n",
      "icet.target_cluster_vector_annealing: INFO  MC step 210000/552000 (64061 accepted trials, temperature 0.366), best score: -2.367\n",
      "icet.target_cluster_vector_annealing: INFO  MC step 211000/552000 (64061 accepted trials, temperature 0.365), best score: -2.367\n",
      "icet.target_cluster_vector_annealing: INFO  MC step 212000/552000 (64062 accepted trials, temperature 0.363), best score: -2.367\n",
      "icet.target_cluster_vector_annealing: INFO  MC step 213000/552000 (64062 accepted trials, temperature 0.361), best score: -2.367\n",
      "icet.target_cluster_vector_annealing: INFO  MC step 214000/552000 (64062 accepted trials, temperature 0.359), best score: -2.367\n",
      "icet.target_cluster_vector_annealing: INFO  MC step 215000/552000 (64063 accepted trials, temperature 0.358), best score: -2.367\n",
      "icet.target_cluster_vector_annealing: INFO  MC step 216000/552000 (64063 accepted trials, temperature 0.356), best score: -2.367\n",
      "icet.target_cluster_vector_annealing: INFO  MC step 217000/552000 (64063 accepted trials, temperature 0.354), best score: -2.367\n",
      "icet.target_cluster_vector_annealing: INFO  MC step 218000/552000 (64063 accepted trials, temperature 0.352), best score: -2.367\n",
      "icet.target_cluster_vector_annealing: INFO  MC step 219000/552000 (64063 accepted trials, temperature 0.351), best score: -2.367\n",
      "icet.target_cluster_vector_annealing: INFO  MC step 220000/552000 (64064 accepted trials, temperature 0.349), best score: -2.367\n",
      "icet.target_cluster_vector_annealing: INFO  MC step 221000/552000 (64065 accepted trials, temperature 0.347), best score: -2.367\n",
      "icet.target_cluster_vector_annealing: INFO  MC step 222000/552000 (64066 accepted trials, temperature 0.345), best score: -2.367\n",
      "icet.target_cluster_vector_annealing: INFO  MC step 223000/552000 (64066 accepted trials, temperature 0.344), best score: -2.367\n",
      "icet.target_cluster_vector_annealing: INFO  MC step 224000/552000 (64066 accepted trials, temperature 0.342), best score: -2.367\n",
      "icet.target_cluster_vector_annealing: INFO  MC step 225000/552000 (64066 accepted trials, temperature 0.340), best score: -2.367\n",
      "icet.target_cluster_vector_annealing: INFO  MC step 226000/552000 (64097 accepted trials, temperature 0.339), best score: -2.367\n",
      "icet.target_cluster_vector_annealing: INFO  MC step 227000/552000 (64119 accepted trials, temperature 0.337), best score: -2.367\n",
      "icet.target_cluster_vector_annealing: INFO  MC step 228000/552000 (64132 accepted trials, temperature 0.335), best score: -2.367\n",
      "icet.target_cluster_vector_annealing: INFO  MC step 229000/552000 (64189 accepted trials, temperature 0.334), best score: -2.367\n",
      "icet.target_cluster_vector_annealing: INFO  MC step 230000/552000 (64214 accepted trials, temperature 0.332), best score: -2.367\n",
      "icet.target_cluster_vector_annealing: INFO  MC step 231000/552000 (64226 accepted trials, temperature 0.330), best score: -2.367\n",
      "icet.target_cluster_vector_annealing: INFO  MC step 232000/552000 (64226 accepted trials, temperature 0.329), best score: -2.367\n",
      "icet.target_cluster_vector_annealing: INFO  MC step 233000/552000 (64227 accepted trials, temperature 0.327), best score: -2.367\n",
      "icet.target_cluster_vector_annealing: INFO  MC step 234000/552000 (64227 accepted trials, temperature 0.325), best score: -2.367\n",
      "icet.target_cluster_vector_annealing: INFO  MC step 235000/552000 (64227 accepted trials, temperature 0.324), best score: -2.367\n",
      "icet.target_cluster_vector_annealing: INFO  MC step 236000/552000 (64299 accepted trials, temperature 0.322), best score: -2.367\n"
     ]
    },
    {
     "name": "stdout",
     "output_type": "stream",
     "text": [
      "icet.target_cluster_vector_annealing: INFO  MC step 237000/552000 (64334 accepted trials, temperature 0.321), best score: -2.367\n",
      "icet.target_cluster_vector_annealing: INFO  MC step 238000/552000 (64394 accepted trials, temperature 0.319), best score: -2.367\n",
      "icet.target_cluster_vector_annealing: INFO  MC step 239000/552000 (64395 accepted trials, temperature 0.318), best score: -2.367\n",
      "icet.target_cluster_vector_annealing: INFO  MC step 240000/552000 (64418 accepted trials, temperature 0.316), best score: -2.367\n",
      "icet.target_cluster_vector_annealing: INFO  MC step 241000/552000 (64434 accepted trials, temperature 0.314), best score: -2.367\n",
      "icet.target_cluster_vector_annealing: INFO  MC step 242000/552000 (64434 accepted trials, temperature 0.313), best score: -2.367\n",
      "icet.target_cluster_vector_annealing: INFO  MC step 243000/552000 (64434 accepted trials, temperature 0.311), best score: -2.367\n",
      "icet.target_cluster_vector_annealing: INFO  MC step 244000/552000 (64434 accepted trials, temperature 0.310), best score: -2.367\n",
      "icet.target_cluster_vector_annealing: INFO  MC step 245000/552000 (64434 accepted trials, temperature 0.308), best score: -2.367\n",
      "icet.target_cluster_vector_annealing: INFO  MC step 246000/552000 (64435 accepted trials, temperature 0.307), best score: -2.367\n",
      "icet.target_cluster_vector_annealing: INFO  MC step 247000/552000 (64436 accepted trials, temperature 0.305), best score: -2.367\n",
      "icet.target_cluster_vector_annealing: INFO  MC step 248000/552000 (64436 accepted trials, temperature 0.304), best score: -2.367\n",
      "icet.target_cluster_vector_annealing: INFO  MC step 249000/552000 (64436 accepted trials, temperature 0.302), best score: -2.367\n",
      "icet.target_cluster_vector_annealing: INFO  MC step 250000/552000 (64436 accepted trials, temperature 0.300), best score: -2.367\n",
      "icet.target_cluster_vector_annealing: INFO  MC step 251000/552000 (64436 accepted trials, temperature 0.299), best score: -2.367\n",
      "icet.target_cluster_vector_annealing: INFO  MC step 252000/552000 (64437 accepted trials, temperature 0.297), best score: -2.367\n",
      "icet.target_cluster_vector_annealing: INFO  MC step 253000/552000 (64478 accepted trials, temperature 0.296), best score: -2.367\n",
      "icet.target_cluster_vector_annealing: INFO  MC step 254000/552000 (64512 accepted trials, temperature 0.294), best score: -2.367\n",
      "icet.target_cluster_vector_annealing: INFO  MC step 255000/552000 (64549 accepted trials, temperature 0.293), best score: -2.367\n",
      "icet.target_cluster_vector_annealing: INFO  MC step 256000/552000 (64561 accepted trials, temperature 0.292), best score: -2.367\n",
      "icet.target_cluster_vector_annealing: INFO  MC step 257000/552000 (64561 accepted trials, temperature 0.290), best score: -2.367\n",
      "icet.target_cluster_vector_annealing: INFO  MC step 258000/552000 (64561 accepted trials, temperature 0.289), best score: -2.367\n",
      "icet.target_cluster_vector_annealing: INFO  MC step 259000/552000 (64561 accepted trials, temperature 0.287), best score: -2.367\n",
      "icet.target_cluster_vector_annealing: INFO  MC step 260000/552000 (64561 accepted trials, temperature 0.286), best score: -2.367\n",
      "icet.target_cluster_vector_annealing: INFO  MC step 261000/552000 (64568 accepted trials, temperature 0.284), best score: -2.367\n",
      "icet.target_cluster_vector_annealing: INFO  MC step 262000/552000 (64598 accepted trials, temperature 0.283), best score: -2.367\n",
      "icet.target_cluster_vector_annealing: INFO  MC step 263000/552000 (64600 accepted trials, temperature 0.281), best score: -2.367\n",
      "icet.target_cluster_vector_annealing: INFO  MC step 264000/552000 (64611 accepted trials, temperature 0.280), best score: -2.367\n",
      "icet.target_cluster_vector_annealing: INFO  MC step 265000/552000 (64624 accepted trials, temperature 0.278), best score: -2.367\n",
      "icet.target_cluster_vector_annealing: INFO  MC step 266000/552000 (64624 accepted trials, temperature 0.277), best score: -2.367\n",
      "icet.target_cluster_vector_annealing: INFO  MC step 267000/552000 (64625 accepted trials, temperature 0.276), best score: -2.367\n",
      "icet.target_cluster_vector_annealing: INFO  MC step 268000/552000 (64626 accepted trials, temperature 0.274), best score: -2.367\n",
      "icet.target_cluster_vector_annealing: INFO  MC step 269000/552000 (64629 accepted trials, temperature 0.273), best score: -2.367\n",
      "icet.target_cluster_vector_annealing: INFO  MC step 270000/552000 (64629 accepted trials, temperature 0.271), best score: -2.367\n",
      "icet.target_cluster_vector_annealing: INFO  MC step 271000/552000 (64662 accepted trials, temperature 0.270), best score: -2.367\n",
      "icet.target_cluster_vector_annealing: INFO  MC step 272000/552000 (64706 accepted trials, temperature 0.269), best score: -2.367\n",
      "icet.target_cluster_vector_annealing: INFO  MC step 273000/552000 (64718 accepted trials, temperature 0.267), best score: -2.367\n",
      "icet.target_cluster_vector_annealing: INFO  MC step 274000/552000 (64719 accepted trials, temperature 0.266), best score: -2.367\n",
      "icet.target_cluster_vector_annealing: INFO  MC step 275000/552000 (64719 accepted trials, temperature 0.264), best score: -2.367\n",
      "icet.target_cluster_vector_annealing: INFO  MC step 276000/552000 (64719 accepted trials, temperature 0.263), best score: -2.367\n",
      "icet.target_cluster_vector_annealing: INFO  MC step 277000/552000 (64719 accepted trials, temperature 0.262), best score: -2.367\n",
      "icet.target_cluster_vector_annealing: INFO  MC step 278000/552000 (64720 accepted trials, temperature 0.260), best score: -2.367\n",
      "icet.target_cluster_vector_annealing: INFO  MC step 279000/552000 (64720 accepted trials, temperature 0.259), best score: -2.367\n",
      "icet.target_cluster_vector_annealing: INFO  MC step 280000/552000 (64738 accepted trials, temperature 0.258), best score: -2.367\n",
      "icet.target_cluster_vector_annealing: INFO  MC step 281000/552000 (64748 accepted trials, temperature 0.256), best score: -2.367\n",
      "icet.target_cluster_vector_annealing: INFO  MC step 282000/552000 (64756 accepted trials, temperature 0.255), best score: -2.367\n",
      "icet.target_cluster_vector_annealing: INFO  MC step 283000/552000 (64757 accepted trials, temperature 0.254), best score: -2.367\n",
      "icet.target_cluster_vector_annealing: INFO  MC step 284000/552000 (64758 accepted trials, temperature 0.252), best score: -2.367\n",
      "icet.target_cluster_vector_annealing: INFO  MC step 285000/552000 (64759 accepted trials, temperature 0.251), best score: -2.367\n",
      "icet.target_cluster_vector_annealing: INFO  MC step 286000/552000 (64759 accepted trials, temperature 0.250), best score: -2.367\n",
      "icet.target_cluster_vector_annealing: INFO  MC step 287000/552000 (64759 accepted trials, temperature 0.248), best score: -2.367\n",
      "icet.target_cluster_vector_annealing: INFO  MC step 288000/552000 (64759 accepted trials, temperature 0.247), best score: -2.367\n",
      "icet.target_cluster_vector_annealing: INFO  MC step 289000/552000 (64759 accepted trials, temperature 0.246), best score: -2.367\n",
      "icet.target_cluster_vector_annealing: INFO  MC step 290000/552000 (64766 accepted trials, temperature 0.244), best score: -2.367\n",
      "icet.target_cluster_vector_annealing: INFO  MC step 291000/552000 (64799 accepted trials, temperature 0.243), best score: -2.367\n",
      "icet.target_cluster_vector_annealing: INFO  MC step 292000/552000 (64812 accepted trials, temperature 0.242), best score: -2.367\n",
      "icet.target_cluster_vector_annealing: INFO  MC step 293000/552000 (64813 accepted trials, temperature 0.240), best score: -2.367\n",
      "icet.target_cluster_vector_annealing: INFO  MC step 294000/552000 (64814 accepted trials, temperature 0.239), best score: -2.367\n",
      "icet.target_cluster_vector_annealing: INFO  MC step 295000/552000 (64814 accepted trials, temperature 0.238), best score: -2.367\n",
      "icet.target_cluster_vector_annealing: INFO  MC step 296000/552000 (64814 accepted trials, temperature 0.237), best score: -2.367\n",
      "icet.target_cluster_vector_annealing: INFO  MC step 297000/552000 (64814 accepted trials, temperature 0.235), best score: -2.367\n",
      "icet.target_cluster_vector_annealing: INFO  MC step 298000/552000 (64822 accepted trials, temperature 0.234), best score: -2.367\n",
      "icet.target_cluster_vector_annealing: INFO  MC step 299000/552000 (64859 accepted trials, temperature 0.233), best score: -2.367\n",
      "icet.target_cluster_vector_annealing: INFO  MC step 300000/552000 (64870 accepted trials, temperature 0.232), best score: -2.367\n"
     ]
    },
    {
     "name": "stdout",
     "output_type": "stream",
     "text": [
      "icet.target_cluster_vector_annealing: INFO  MC step 301000/552000 (64876 accepted trials, temperature 0.230), best score: -2.367\n",
      "icet.target_cluster_vector_annealing: INFO  MC step 302000/552000 (64876 accepted trials, temperature 0.229), best score: -2.367\n",
      "icet.target_cluster_vector_annealing: INFO  MC step 303000/552000 (64876 accepted trials, temperature 0.228), best score: -2.367\n",
      "icet.target_cluster_vector_annealing: INFO  MC step 304000/552000 (64876 accepted trials, temperature 0.227), best score: -2.367\n",
      "icet.target_cluster_vector_annealing: INFO  MC step 305000/552000 (64876 accepted trials, temperature 0.225), best score: -2.367\n",
      "icet.target_cluster_vector_annealing: INFO  MC step 306000/552000 (64876 accepted trials, temperature 0.224), best score: -2.367\n",
      "icet.target_cluster_vector_annealing: INFO  MC step 307000/552000 (64876 accepted trials, temperature 0.223), best score: -2.367\n",
      "icet.target_cluster_vector_annealing: INFO  MC step 308000/552000 (64877 accepted trials, temperature 0.222), best score: -2.367\n",
      "icet.target_cluster_vector_annealing: INFO  MC step 309000/552000 (64877 accepted trials, temperature 0.220), best score: -2.367\n",
      "icet.target_cluster_vector_annealing: INFO  MC step 310000/552000 (64877 accepted trials, temperature 0.219), best score: -2.367\n",
      "icet.target_cluster_vector_annealing: INFO  MC step 311000/552000 (64877 accepted trials, temperature 0.218), best score: -2.367\n",
      "icet.target_cluster_vector_annealing: INFO  MC step 312000/552000 (64877 accepted trials, temperature 0.217), best score: -2.367\n",
      "icet.target_cluster_vector_annealing: INFO  MC step 313000/552000 (64877 accepted trials, temperature 0.216), best score: -2.367\n",
      "icet.target_cluster_vector_annealing: INFO  MC step 314000/552000 (64878 accepted trials, temperature 0.214), best score: -2.367\n",
      "icet.target_cluster_vector_annealing: INFO  MC step 315000/552000 (64878 accepted trials, temperature 0.213), best score: -2.367\n",
      "icet.target_cluster_vector_annealing: INFO  MC step 316000/552000 (64878 accepted trials, temperature 0.212), best score: -2.367\n",
      "icet.target_cluster_vector_annealing: INFO  MC step 317000/552000 (64880 accepted trials, temperature 0.211), best score: -2.367\n",
      "icet.target_cluster_vector_annealing: INFO  MC step 318000/552000 (64898 accepted trials, temperature 0.210), best score: -2.367\n",
      "icet.target_cluster_vector_annealing: INFO  MC step 319000/552000 (64904 accepted trials, temperature 0.208), best score: -2.367\n",
      "icet.target_cluster_vector_annealing: INFO  MC step 320000/552000 (64905 accepted trials, temperature 0.207), best score: -2.367\n",
      "icet.target_cluster_vector_annealing: INFO  MC step 321000/552000 (64910 accepted trials, temperature 0.206), best score: -2.367\n",
      "icet.target_cluster_vector_annealing: INFO  MC step 322000/552000 (64913 accepted trials, temperature 0.205), best score: -2.367\n",
      "icet.target_cluster_vector_annealing: INFO  MC step 323000/552000 (64914 accepted trials, temperature 0.204), best score: -2.367\n",
      "icet.target_cluster_vector_annealing: INFO  MC step 324000/552000 (64921 accepted trials, temperature 0.202), best score: -2.367\n",
      "icet.target_cluster_vector_annealing: INFO  MC step 325000/552000 (64923 accepted trials, temperature 0.201), best score: -2.367\n",
      "icet.target_cluster_vector_annealing: INFO  MC step 326000/552000 (64936 accepted trials, temperature 0.200), best score: -2.367\n",
      "icet.target_cluster_vector_annealing: INFO  MC step 327000/552000 (64949 accepted trials, temperature 0.199), best score: -2.367\n",
      "icet.target_cluster_vector_annealing: INFO  MC step 328000/552000 (64952 accepted trials, temperature 0.198), best score: -2.367\n",
      "icet.target_cluster_vector_annealing: INFO  MC step 329000/552000 (64953 accepted trials, temperature 0.197), best score: -2.367\n",
      "icet.target_cluster_vector_annealing: INFO  MC step 330000/552000 (64954 accepted trials, temperature 0.196), best score: -2.367\n",
      "icet.target_cluster_vector_annealing: INFO  MC step 331000/552000 (64954 accepted trials, temperature 0.194), best score: -2.367\n",
      "icet.target_cluster_vector_annealing: INFO  MC step 332000/552000 (64955 accepted trials, temperature 0.193), best score: -2.367\n",
      "icet.target_cluster_vector_annealing: INFO  MC step 333000/552000 (64956 accepted trials, temperature 0.192), best score: -2.367\n",
      "icet.target_cluster_vector_annealing: INFO  MC step 334000/552000 (64958 accepted trials, temperature 0.191), best score: -2.367\n",
      "icet.target_cluster_vector_annealing: INFO  MC step 335000/552000 (64958 accepted trials, temperature 0.190), best score: -2.367\n",
      "icet.target_cluster_vector_annealing: INFO  MC step 336000/552000 (64958 accepted trials, temperature 0.189), best score: -2.367\n",
      "icet.target_cluster_vector_annealing: INFO  MC step 337000/552000 (64959 accepted trials, temperature 0.188), best score: -2.367\n",
      "icet.target_cluster_vector_annealing: INFO  MC step 338000/552000 (64960 accepted trials, temperature 0.186), best score: -2.367\n",
      "icet.target_cluster_vector_annealing: INFO  MC step 339000/552000 (64960 accepted trials, temperature 0.185), best score: -2.367\n",
      "icet.target_cluster_vector_annealing: INFO  MC step 340000/552000 (64960 accepted trials, temperature 0.184), best score: -2.367\n",
      "icet.target_cluster_vector_annealing: INFO  MC step 341000/552000 (64961 accepted trials, temperature 0.183), best score: -2.367\n",
      "icet.target_cluster_vector_annealing: INFO  MC step 342000/552000 (64961 accepted trials, temperature 0.182), best score: -2.367\n",
      "icet.target_cluster_vector_annealing: INFO  MC step 343000/552000 (64961 accepted trials, temperature 0.181), best score: -2.367\n",
      "icet.target_cluster_vector_annealing: INFO  MC step 344000/552000 (64962 accepted trials, temperature 0.180), best score: -2.367\n",
      "icet.target_cluster_vector_annealing: INFO  MC step 345000/552000 (64962 accepted trials, temperature 0.179), best score: -2.367\n",
      "icet.target_cluster_vector_annealing: INFO  MC step 346000/552000 (64962 accepted trials, temperature 0.178), best score: -2.367\n",
      "icet.target_cluster_vector_annealing: INFO  MC step 347000/552000 (64962 accepted trials, temperature 0.177), best score: -2.367\n",
      "icet.target_cluster_vector_annealing: INFO  MC step 348000/552000 (64962 accepted trials, temperature 0.175), best score: -2.367\n",
      "icet.target_cluster_vector_annealing: INFO  MC step 349000/552000 (64963 accepted trials, temperature 0.174), best score: -2.367\n",
      "icet.target_cluster_vector_annealing: INFO  MC step 350000/552000 (64963 accepted trials, temperature 0.173), best score: -2.367\n",
      "icet.target_cluster_vector_annealing: INFO  MC step 351000/552000 (64963 accepted trials, temperature 0.172), best score: -2.367\n",
      "icet.target_cluster_vector_annealing: INFO  MC step 352000/552000 (64963 accepted trials, temperature 0.171), best score: -2.367\n",
      "icet.target_cluster_vector_annealing: INFO  MC step 353000/552000 (64963 accepted trials, temperature 0.170), best score: -2.367\n",
      "icet.target_cluster_vector_annealing: INFO  MC step 354000/552000 (64963 accepted trials, temperature 0.169), best score: -2.367\n",
      "icet.target_cluster_vector_annealing: INFO  MC step 355000/552000 (64964 accepted trials, temperature 0.168), best score: -2.367\n",
      "icet.target_cluster_vector_annealing: INFO  MC step 356000/552000 (64965 accepted trials, temperature 0.167), best score: -2.367\n",
      "icet.target_cluster_vector_annealing: INFO  MC step 357000/552000 (64965 accepted trials, temperature 0.166), best score: -2.367\n",
      "icet.target_cluster_vector_annealing: INFO  MC step 358000/552000 (64965 accepted trials, temperature 0.165), best score: -2.367\n",
      "icet.target_cluster_vector_annealing: INFO  MC step 359000/552000 (64966 accepted trials, temperature 0.164), best score: -2.367\n",
      "icet.target_cluster_vector_annealing: INFO  MC step 360000/552000 (64966 accepted trials, temperature 0.163), best score: -2.367\n",
      "icet.target_cluster_vector_annealing: INFO  MC step 361000/552000 (64966 accepted trials, temperature 0.162), best score: -2.367\n",
      "icet.target_cluster_vector_annealing: INFO  MC step 362000/552000 (64967 accepted trials, temperature 0.161), best score: -2.367\n",
      "icet.target_cluster_vector_annealing: INFO  MC step 363000/552000 (64968 accepted trials, temperature 0.159), best score: -2.367\n",
      "icet.target_cluster_vector_annealing: INFO  MC step 364000/552000 (64969 accepted trials, temperature 0.158), best score: -2.367\n"
     ]
    },
    {
     "name": "stdout",
     "output_type": "stream",
     "text": [
      "icet.target_cluster_vector_annealing: INFO  MC step 365000/552000 (64969 accepted trials, temperature 0.157), best score: -2.367\n",
      "icet.target_cluster_vector_annealing: INFO  MC step 366000/552000 (64969 accepted trials, temperature 0.156), best score: -2.367\n",
      "icet.target_cluster_vector_annealing: INFO  MC step 367000/552000 (64969 accepted trials, temperature 0.155), best score: -2.367\n",
      "icet.target_cluster_vector_annealing: INFO  MC step 368000/552000 (64969 accepted trials, temperature 0.154), best score: -2.367\n",
      "icet.target_cluster_vector_annealing: INFO  MC step 369000/552000 (64969 accepted trials, temperature 0.153), best score: -2.367\n",
      "icet.target_cluster_vector_annealing: INFO  MC step 370000/552000 (64969 accepted trials, temperature 0.152), best score: -2.367\n",
      "icet.target_cluster_vector_annealing: INFO  MC step 371000/552000 (64969 accepted trials, temperature 0.151), best score: -2.367\n",
      "icet.target_cluster_vector_annealing: INFO  MC step 372000/552000 (64969 accepted trials, temperature 0.150), best score: -2.367\n",
      "icet.target_cluster_vector_annealing: INFO  MC step 373000/552000 (64969 accepted trials, temperature 0.149), best score: -2.367\n",
      "icet.target_cluster_vector_annealing: INFO  MC step 374000/552000 (64969 accepted trials, temperature 0.148), best score: -2.367\n",
      "icet.target_cluster_vector_annealing: INFO  MC step 375000/552000 (64969 accepted trials, temperature 0.147), best score: -2.367\n",
      "icet.target_cluster_vector_annealing: INFO  MC step 376000/552000 (64969 accepted trials, temperature 0.146), best score: -2.367\n",
      "icet.target_cluster_vector_annealing: INFO  MC step 377000/552000 (64969 accepted trials, temperature 0.145), best score: -2.367\n",
      "icet.target_cluster_vector_annealing: INFO  MC step 378000/552000 (64971 accepted trials, temperature 0.144), best score: -2.367\n",
      "icet.target_cluster_vector_annealing: INFO  MC step 379000/552000 (64973 accepted trials, temperature 0.143), best score: -2.367\n",
      "icet.target_cluster_vector_annealing: INFO  MC step 380000/552000 (64974 accepted trials, temperature 0.142), best score: -2.367\n",
      "icet.target_cluster_vector_annealing: INFO  MC step 381000/552000 (64974 accepted trials, temperature 0.141), best score: -2.367\n",
      "icet.target_cluster_vector_annealing: INFO  MC step 382000/552000 (64974 accepted trials, temperature 0.140), best score: -2.367\n",
      "icet.target_cluster_vector_annealing: INFO  MC step 383000/552000 (64975 accepted trials, temperature 0.139), best score: -2.367\n",
      "icet.target_cluster_vector_annealing: INFO  MC step 384000/552000 (64975 accepted trials, temperature 0.138), best score: -2.367\n",
      "icet.target_cluster_vector_annealing: INFO  MC step 385000/552000 (64975 accepted trials, temperature 0.137), best score: -2.367\n",
      "icet.target_cluster_vector_annealing: INFO  MC step 386000/552000 (64975 accepted trials, temperature 0.136), best score: -2.367\n",
      "icet.target_cluster_vector_annealing: INFO  MC step 387000/552000 (64975 accepted trials, temperature 0.135), best score: -2.367\n",
      "icet.target_cluster_vector_annealing: INFO  MC step 388000/552000 (64977 accepted trials, temperature 0.134), best score: -2.367\n",
      "icet.target_cluster_vector_annealing: INFO  MC step 389000/552000 (64977 accepted trials, temperature 0.133), best score: -2.367\n",
      "icet.target_cluster_vector_annealing: INFO  MC step 390000/552000 (64977 accepted trials, temperature 0.132), best score: -2.367\n",
      "icet.target_cluster_vector_annealing: INFO  MC step 391000/552000 (64979 accepted trials, temperature 0.131), best score: -2.367\n",
      "icet.target_cluster_vector_annealing: INFO  MC step 392000/552000 (64979 accepted trials, temperature 0.130), best score: -2.367\n",
      "icet.target_cluster_vector_annealing: INFO  MC step 393000/552000 (64979 accepted trials, temperature 0.129), best score: -2.367\n",
      "icet.target_cluster_vector_annealing: INFO  MC step 394000/552000 (64979 accepted trials, temperature 0.128), best score: -2.367\n",
      "icet.target_cluster_vector_annealing: INFO  MC step 395000/552000 (64979 accepted trials, temperature 0.128), best score: -2.367\n",
      "icet.target_cluster_vector_annealing: INFO  MC step 396000/552000 (64979 accepted trials, temperature 0.127), best score: -2.367\n",
      "icet.target_cluster_vector_annealing: INFO  MC step 397000/552000 (64981 accepted trials, temperature 0.126), best score: -2.367\n",
      "icet.target_cluster_vector_annealing: INFO  MC step 398000/552000 (64981 accepted trials, temperature 0.125), best score: -2.367\n",
      "icet.target_cluster_vector_annealing: INFO  MC step 399000/552000 (64982 accepted trials, temperature 0.124), best score: -2.367\n",
      "icet.target_cluster_vector_annealing: INFO  MC step 400000/552000 (64982 accepted trials, temperature 0.123), best score: -2.367\n",
      "icet.target_cluster_vector_annealing: INFO  MC step 401000/552000 (64983 accepted trials, temperature 0.122), best score: -2.367\n",
      "icet.target_cluster_vector_annealing: INFO  MC step 402000/552000 (64984 accepted trials, temperature 0.121), best score: -2.367\n",
      "icet.target_cluster_vector_annealing: INFO  MC step 403000/552000 (64984 accepted trials, temperature 0.120), best score: -2.367\n",
      "icet.target_cluster_vector_annealing: INFO  MC step 404000/552000 (64984 accepted trials, temperature 0.119), best score: -2.367\n",
      "icet.target_cluster_vector_annealing: INFO  MC step 405000/552000 (64984 accepted trials, temperature 0.118), best score: -2.367\n",
      "icet.target_cluster_vector_annealing: INFO  MC step 406000/552000 (64985 accepted trials, temperature 0.117), best score: -2.367\n",
      "icet.target_cluster_vector_annealing: INFO  MC step 407000/552000 (64985 accepted trials, temperature 0.116), best score: -2.367\n",
      "icet.target_cluster_vector_annealing: INFO  MC step 408000/552000 (64985 accepted trials, temperature 0.115), best score: -2.367\n",
      "icet.target_cluster_vector_annealing: INFO  MC step 409000/552000 (64985 accepted trials, temperature 0.114), best score: -2.367\n",
      "icet.target_cluster_vector_annealing: INFO  MC step 410000/552000 (64987 accepted trials, temperature 0.113), best score: -2.367\n",
      "icet.target_cluster_vector_annealing: INFO  MC step 411000/552000 (64987 accepted trials, temperature 0.113), best score: -2.367\n",
      "icet.target_cluster_vector_annealing: INFO  MC step 412000/552000 (64987 accepted trials, temperature 0.112), best score: -2.367\n",
      "icet.target_cluster_vector_annealing: INFO  MC step 413000/552000 (64988 accepted trials, temperature 0.111), best score: -2.367\n",
      "icet.target_cluster_vector_annealing: INFO  MC step 414000/552000 (64989 accepted trials, temperature 0.110), best score: -2.367\n",
      "icet.target_cluster_vector_annealing: INFO  MC step 415000/552000 (64989 accepted trials, temperature 0.109), best score: -2.367\n",
      "icet.target_cluster_vector_annealing: INFO  MC step 416000/552000 (64989 accepted trials, temperature 0.108), best score: -2.367\n",
      "icet.target_cluster_vector_annealing: INFO  MC step 417000/552000 (64989 accepted trials, temperature 0.107), best score: -2.367\n",
      "icet.target_cluster_vector_annealing: INFO  MC step 418000/552000 (64989 accepted trials, temperature 0.106), best score: -2.367\n",
      "icet.target_cluster_vector_annealing: INFO  MC step 419000/552000 (64989 accepted trials, temperature 0.105), best score: -2.367\n",
      "icet.target_cluster_vector_annealing: INFO  MC step 420000/552000 (64989 accepted trials, temperature 0.104), best score: -2.367\n",
      "icet.target_cluster_vector_annealing: INFO  MC step 421000/552000 (64989 accepted trials, temperature 0.103), best score: -2.367\n",
      "icet.target_cluster_vector_annealing: INFO  MC step 422000/552000 (64989 accepted trials, temperature 0.103), best score: -2.367\n",
      "icet.target_cluster_vector_annealing: INFO  MC step 423000/552000 (64989 accepted trials, temperature 0.102), best score: -2.367\n",
      "icet.target_cluster_vector_annealing: INFO  MC step 424000/552000 (64990 accepted trials, temperature 0.101), best score: -2.367\n",
      "icet.target_cluster_vector_annealing: INFO  MC step 425000/552000 (64991 accepted trials, temperature 0.100), best score: -2.367\n",
      "icet.target_cluster_vector_annealing: INFO  MC step 426000/552000 (64991 accepted trials, temperature 0.099), best score: -2.367\n",
      "icet.target_cluster_vector_annealing: INFO  MC step 427000/552000 (64992 accepted trials, temperature 0.098), best score: -2.367\n",
      "icet.target_cluster_vector_annealing: INFO  MC step 428000/552000 (64992 accepted trials, temperature 0.097), best score: -2.367\n"
     ]
    },
    {
     "name": "stdout",
     "output_type": "stream",
     "text": [
      "icet.target_cluster_vector_annealing: INFO  MC step 429000/552000 (64993 accepted trials, temperature 0.096), best score: -2.367\n",
      "icet.target_cluster_vector_annealing: INFO  MC step 430000/552000 (64993 accepted trials, temperature 0.095), best score: -2.367\n",
      "icet.target_cluster_vector_annealing: INFO  MC step 431000/552000 (64995 accepted trials, temperature 0.095), best score: -2.367\n",
      "icet.target_cluster_vector_annealing: INFO  MC step 432000/552000 (64995 accepted trials, temperature 0.094), best score: -2.367\n",
      "icet.target_cluster_vector_annealing: INFO  MC step 433000/552000 (64997 accepted trials, temperature 0.093), best score: -2.367\n",
      "icet.target_cluster_vector_annealing: INFO  MC step 434000/552000 (64998 accepted trials, temperature 0.092), best score: -2.367\n",
      "icet.target_cluster_vector_annealing: INFO  MC step 435000/552000 (64999 accepted trials, temperature 0.091), best score: -2.367\n",
      "icet.target_cluster_vector_annealing: INFO  MC step 436000/552000 (64999 accepted trials, temperature 0.090), best score: -2.367\n",
      "icet.target_cluster_vector_annealing: INFO  MC step 437000/552000 (65001 accepted trials, temperature 0.089), best score: -2.367\n",
      "icet.target_cluster_vector_annealing: INFO  MC step 438000/552000 (65003 accepted trials, temperature 0.088), best score: -2.367\n",
      "icet.target_cluster_vector_annealing: INFO  MC step 439000/552000 (65003 accepted trials, temperature 0.088), best score: -2.367\n",
      "icet.target_cluster_vector_annealing: INFO  MC step 440000/552000 (65004 accepted trials, temperature 0.087), best score: -2.367\n",
      "icet.target_cluster_vector_annealing: INFO  MC step 441000/552000 (65004 accepted trials, temperature 0.086), best score: -2.367\n",
      "icet.target_cluster_vector_annealing: INFO  MC step 442000/552000 (65004 accepted trials, temperature 0.085), best score: -2.367\n",
      "icet.target_cluster_vector_annealing: INFO  MC step 443000/552000 (65004 accepted trials, temperature 0.084), best score: -2.367\n",
      "icet.target_cluster_vector_annealing: INFO  MC step 444000/552000 (65004 accepted trials, temperature 0.083), best score: -2.367\n",
      "icet.target_cluster_vector_annealing: INFO  MC step 445000/552000 (65005 accepted trials, temperature 0.082), best score: -2.367\n",
      "icet.target_cluster_vector_annealing: INFO  MC step 446000/552000 (65005 accepted trials, temperature 0.082), best score: -2.367\n",
      "icet.target_cluster_vector_annealing: INFO  MC step 447000/552000 (65006 accepted trials, temperature 0.081), best score: -2.367\n",
      "icet.target_cluster_vector_annealing: INFO  MC step 448000/552000 (65006 accepted trials, temperature 0.080), best score: -2.367\n",
      "icet.target_cluster_vector_annealing: INFO  MC step 449000/552000 (65006 accepted trials, temperature 0.079), best score: -2.367\n",
      "icet.target_cluster_vector_annealing: INFO  MC step 450000/552000 (65007 accepted trials, temperature 0.078), best score: -2.367\n",
      "icet.target_cluster_vector_annealing: INFO  MC step 451000/552000 (65007 accepted trials, temperature 0.077), best score: -2.367\n",
      "icet.target_cluster_vector_annealing: INFO  MC step 452000/552000 (65007 accepted trials, temperature 0.077), best score: -2.367\n",
      "icet.target_cluster_vector_annealing: INFO  MC step 453000/552000 (65008 accepted trials, temperature 0.076), best score: -2.367\n",
      "icet.target_cluster_vector_annealing: INFO  MC step 454000/552000 (65009 accepted trials, temperature 0.075), best score: -2.367\n",
      "icet.target_cluster_vector_annealing: INFO  MC step 455000/552000 (65009 accepted trials, temperature 0.074), best score: -2.367\n",
      "icet.target_cluster_vector_annealing: INFO  MC step 456000/552000 (65010 accepted trials, temperature 0.073), best score: -2.367\n",
      "icet.target_cluster_vector_annealing: INFO  MC step 457000/552000 (65010 accepted trials, temperature 0.072), best score: -2.367\n",
      "icet.target_cluster_vector_annealing: INFO  MC step 458000/552000 (65010 accepted trials, temperature 0.072), best score: -2.367\n",
      "icet.target_cluster_vector_annealing: INFO  MC step 459000/552000 (65010 accepted trials, temperature 0.071), best score: -2.367\n",
      "icet.target_cluster_vector_annealing: INFO  MC step 460000/552000 (65010 accepted trials, temperature 0.070), best score: -2.367\n",
      "icet.target_cluster_vector_annealing: INFO  MC step 461000/552000 (65010 accepted trials, temperature 0.069), best score: -2.367\n",
      "icet.target_cluster_vector_annealing: INFO  MC step 462000/552000 (65011 accepted trials, temperature 0.068), best score: -2.367\n",
      "icet.target_cluster_vector_annealing: INFO  MC step 463000/552000 (65011 accepted trials, temperature 0.067), best score: -2.367\n",
      "icet.target_cluster_vector_annealing: INFO  MC step 464000/552000 (65013 accepted trials, temperature 0.067), best score: -2.367\n",
      "icet.target_cluster_vector_annealing: INFO  MC step 465000/552000 (65014 accepted trials, temperature 0.066), best score: -2.367\n",
      "icet.target_cluster_vector_annealing: INFO  MC step 466000/552000 (65014 accepted trials, temperature 0.065), best score: -2.367\n",
      "icet.target_cluster_vector_annealing: INFO  MC step 467000/552000 (65015 accepted trials, temperature 0.064), best score: -2.367\n",
      "icet.target_cluster_vector_annealing: INFO  MC step 468000/552000 (65016 accepted trials, temperature 0.063), best score: -2.367\n",
      "icet.target_cluster_vector_annealing: INFO  MC step 469000/552000 (65017 accepted trials, temperature 0.063), best score: -2.367\n",
      "icet.target_cluster_vector_annealing: INFO  MC step 470000/552000 (65017 accepted trials, temperature 0.062), best score: -2.367\n",
      "icet.target_cluster_vector_annealing: INFO  MC step 471000/552000 (65017 accepted trials, temperature 0.061), best score: -2.367\n",
      "icet.target_cluster_vector_annealing: INFO  MC step 472000/552000 (65018 accepted trials, temperature 0.060), best score: -2.367\n",
      "icet.target_cluster_vector_annealing: INFO  MC step 473000/552000 (65018 accepted trials, temperature 0.059), best score: -2.367\n",
      "icet.target_cluster_vector_annealing: INFO  MC step 474000/552000 (65018 accepted trials, temperature 0.059), best score: -2.367\n",
      "icet.target_cluster_vector_annealing: INFO  MC step 475000/552000 (65018 accepted trials, temperature 0.058), best score: -2.367\n",
      "icet.target_cluster_vector_annealing: INFO  MC step 476000/552000 (65018 accepted trials, temperature 0.057), best score: -2.367\n",
      "icet.target_cluster_vector_annealing: INFO  MC step 477000/552000 (65019 accepted trials, temperature 0.056), best score: -2.367\n",
      "icet.target_cluster_vector_annealing: INFO  MC step 478000/552000 (65020 accepted trials, temperature 0.055), best score: -2.367\n",
      "icet.target_cluster_vector_annealing: INFO  MC step 479000/552000 (65020 accepted trials, temperature 0.055), best score: -2.367\n",
      "icet.target_cluster_vector_annealing: INFO  MC step 480000/552000 (65020 accepted trials, temperature 0.054), best score: -2.367\n",
      "icet.target_cluster_vector_annealing: INFO  MC step 481000/552000 (65020 accepted trials, temperature 0.053), best score: -2.367\n",
      "icet.target_cluster_vector_annealing: INFO  MC step 482000/552000 (65021 accepted trials, temperature 0.052), best score: -2.367\n",
      "icet.target_cluster_vector_annealing: INFO  MC step 483000/552000 (65024 accepted trials, temperature 0.051), best score: -2.367\n",
      "icet.target_cluster_vector_annealing: INFO  MC step 484000/552000 (65024 accepted trials, temperature 0.051), best score: -2.367\n",
      "icet.target_cluster_vector_annealing: INFO  MC step 485000/552000 (65024 accepted trials, temperature 0.050), best score: -2.367\n",
      "icet.target_cluster_vector_annealing: INFO  MC step 486000/552000 (65024 accepted trials, temperature 0.049), best score: -2.367\n",
      "icet.target_cluster_vector_annealing: INFO  MC step 487000/552000 (65025 accepted trials, temperature 0.048), best score: -2.367\n",
      "icet.target_cluster_vector_annealing: INFO  MC step 488000/552000 (65025 accepted trials, temperature 0.048), best score: -2.367\n",
      "icet.target_cluster_vector_annealing: INFO  MC step 489000/552000 (65025 accepted trials, temperature 0.047), best score: -2.367\n",
      "icet.target_cluster_vector_annealing: INFO  MC step 490000/552000 (65025 accepted trials, temperature 0.046), best score: -2.367\n",
      "icet.target_cluster_vector_annealing: INFO  MC step 491000/552000 (65026 accepted trials, temperature 0.045), best score: -2.367\n",
      "icet.target_cluster_vector_annealing: INFO  MC step 492000/552000 (65028 accepted trials, temperature 0.045), best score: -2.367\n"
     ]
    },
    {
     "name": "stdout",
     "output_type": "stream",
     "text": [
      "icet.target_cluster_vector_annealing: INFO  MC step 493000/552000 (65029 accepted trials, temperature 0.044), best score: -2.367\n",
      "icet.target_cluster_vector_annealing: INFO  MC step 494000/552000 (65029 accepted trials, temperature 0.043), best score: -2.367\n",
      "icet.target_cluster_vector_annealing: INFO  MC step 495000/552000 (65029 accepted trials, temperature 0.042), best score: -2.367\n",
      "icet.target_cluster_vector_annealing: INFO  MC step 496000/552000 (65029 accepted trials, temperature 0.041), best score: -2.367\n",
      "icet.target_cluster_vector_annealing: INFO  MC step 497000/552000 (65030 accepted trials, temperature 0.041), best score: -2.367\n",
      "icet.target_cluster_vector_annealing: INFO  MC step 498000/552000 (65030 accepted trials, temperature 0.040), best score: -2.367\n",
      "icet.target_cluster_vector_annealing: INFO  MC step 499000/552000 (65030 accepted trials, temperature 0.039), best score: -2.367\n",
      "icet.target_cluster_vector_annealing: INFO  MC step 500000/552000 (65030 accepted trials, temperature 0.038), best score: -2.367\n",
      "icet.target_cluster_vector_annealing: INFO  MC step 501000/552000 (65030 accepted trials, temperature 0.038), best score: -2.367\n",
      "icet.target_cluster_vector_annealing: INFO  MC step 502000/552000 (65031 accepted trials, temperature 0.037), best score: -2.367\n",
      "icet.target_cluster_vector_annealing: INFO  MC step 503000/552000 (65031 accepted trials, temperature 0.036), best score: -2.367\n",
      "icet.target_cluster_vector_annealing: INFO  MC step 504000/552000 (65031 accepted trials, temperature 0.035), best score: -2.367\n",
      "icet.target_cluster_vector_annealing: INFO  MC step 505000/552000 (65031 accepted trials, temperature 0.035), best score: -2.367\n",
      "icet.target_cluster_vector_annealing: INFO  MC step 506000/552000 (65031 accepted trials, temperature 0.034), best score: -2.367\n",
      "icet.target_cluster_vector_annealing: INFO  MC step 507000/552000 (65031 accepted trials, temperature 0.033), best score: -2.367\n",
      "icet.target_cluster_vector_annealing: INFO  MC step 508000/552000 (65031 accepted trials, temperature 0.032), best score: -2.367\n",
      "icet.target_cluster_vector_annealing: INFO  MC step 509000/552000 (65031 accepted trials, temperature 0.032), best score: -2.367\n",
      "icet.target_cluster_vector_annealing: INFO  MC step 510000/552000 (65031 accepted trials, temperature 0.031), best score: -2.367\n",
      "icet.target_cluster_vector_annealing: INFO  MC step 511000/552000 (65031 accepted trials, temperature 0.030), best score: -2.367\n",
      "icet.target_cluster_vector_annealing: INFO  MC step 512000/552000 (65031 accepted trials, temperature 0.029), best score: -2.367\n",
      "icet.target_cluster_vector_annealing: INFO  MC step 513000/552000 (65031 accepted trials, temperature 0.029), best score: -2.367\n",
      "icet.target_cluster_vector_annealing: INFO  MC step 514000/552000 (65031 accepted trials, temperature 0.028), best score: -2.367\n",
      "icet.target_cluster_vector_annealing: INFO  MC step 515000/552000 (65031 accepted trials, temperature 0.027), best score: -2.367\n",
      "icet.target_cluster_vector_annealing: INFO  MC step 516000/552000 (65031 accepted trials, temperature 0.026), best score: -2.367\n",
      "icet.target_cluster_vector_annealing: INFO  MC step 517000/552000 (65031 accepted trials, temperature 0.026), best score: -2.367\n",
      "icet.target_cluster_vector_annealing: INFO  MC step 518000/552000 (65031 accepted trials, temperature 0.025), best score: -2.367\n",
      "icet.target_cluster_vector_annealing: INFO  MC step 519000/552000 (65031 accepted trials, temperature 0.024), best score: -2.367\n",
      "icet.target_cluster_vector_annealing: INFO  MC step 520000/552000 (65031 accepted trials, temperature 0.024), best score: -2.367\n",
      "icet.target_cluster_vector_annealing: INFO  MC step 521000/552000 (65031 accepted trials, temperature 0.023), best score: -2.367\n",
      "icet.target_cluster_vector_annealing: INFO  MC step 522000/552000 (65031 accepted trials, temperature 0.022), best score: -2.367\n",
      "icet.target_cluster_vector_annealing: INFO  MC step 523000/552000 (65031 accepted trials, temperature 0.021), best score: -2.367\n",
      "icet.target_cluster_vector_annealing: INFO  MC step 524000/552000 (65031 accepted trials, temperature 0.021), best score: -2.367\n",
      "icet.target_cluster_vector_annealing: INFO  MC step 525000/552000 (65032 accepted trials, temperature 0.020), best score: -2.367\n",
      "icet.target_cluster_vector_annealing: INFO  MC step 526000/552000 (65032 accepted trials, temperature 0.019), best score: -2.367\n",
      "icet.target_cluster_vector_annealing: INFO  MC step 527000/552000 (65033 accepted trials, temperature 0.019), best score: -2.367\n",
      "icet.target_cluster_vector_annealing: INFO  MC step 528000/552000 (65033 accepted trials, temperature 0.018), best score: -2.367\n",
      "icet.target_cluster_vector_annealing: INFO  MC step 529000/552000 (65033 accepted trials, temperature 0.017), best score: -2.367\n",
      "icet.target_cluster_vector_annealing: INFO  MC step 530000/552000 (65033 accepted trials, temperature 0.016), best score: -2.367\n",
      "icet.target_cluster_vector_annealing: INFO  MC step 531000/552000 (65034 accepted trials, temperature 0.016), best score: -2.367\n",
      "icet.target_cluster_vector_annealing: INFO  MC step 532000/552000 (65035 accepted trials, temperature 0.015), best score: -2.367\n",
      "icet.target_cluster_vector_annealing: INFO  MC step 533000/552000 (65035 accepted trials, temperature 0.014), best score: -2.367\n",
      "icet.target_cluster_vector_annealing: INFO  MC step 534000/552000 (65036 accepted trials, temperature 0.014), best score: -2.367\n",
      "icet.target_cluster_vector_annealing: INFO  MC step 535000/552000 (65036 accepted trials, temperature 0.013), best score: -2.367\n",
      "icet.target_cluster_vector_annealing: INFO  MC step 536000/552000 (65036 accepted trials, temperature 0.012), best score: -2.367\n",
      "icet.target_cluster_vector_annealing: INFO  MC step 537000/552000 (65038 accepted trials, temperature 0.011), best score: -2.367\n",
      "icet.target_cluster_vector_annealing: INFO  MC step 538000/552000 (65038 accepted trials, temperature 0.011), best score: -2.367\n",
      "icet.target_cluster_vector_annealing: INFO  MC step 539000/552000 (65038 accepted trials, temperature 0.010), best score: -2.367\n",
      "icet.target_cluster_vector_annealing: INFO  MC step 540000/552000 (65038 accepted trials, temperature 0.009), best score: -2.367\n",
      "icet.target_cluster_vector_annealing: INFO  MC step 541000/552000 (65038 accepted trials, temperature 0.009), best score: -2.367\n",
      "icet.target_cluster_vector_annealing: INFO  MC step 542000/552000 (65038 accepted trials, temperature 0.008), best score: -2.367\n",
      "icet.target_cluster_vector_annealing: INFO  MC step 543000/552000 (65039 accepted trials, temperature 0.007), best score: -2.367\n",
      "icet.target_cluster_vector_annealing: INFO  MC step 544000/552000 (65039 accepted trials, temperature 0.007), best score: -2.367\n",
      "icet.target_cluster_vector_annealing: INFO  MC step 545000/552000 (65041 accepted trials, temperature 0.006), best score: -2.367\n",
      "icet.target_cluster_vector_annealing: INFO  MC step 546000/552000 (65041 accepted trials, temperature 0.005), best score: -2.367\n",
      "icet.target_cluster_vector_annealing: INFO  MC step 547000/552000 (65041 accepted trials, temperature 0.004), best score: -2.367\n",
      "icet.target_cluster_vector_annealing: INFO  MC step 548000/552000 (65041 accepted trials, temperature 0.004), best score: -2.367\n",
      "icet.target_cluster_vector_annealing: INFO  MC step 549000/552000 (65041 accepted trials, temperature 0.003), best score: -2.367\n",
      "icet.target_cluster_vector_annealing: INFO  MC step 550000/552000 (65041 accepted trials, temperature 0.002), best score: -2.367\n",
      "icet.target_cluster_vector_annealing: INFO  MC step 551000/552000 (65041 accepted trials, temperature 0.002), best score: -2.367\n",
      "Cluster vector of generated structure: [ 1.  0.  0.  0.  0.  0.  0.  0.  0. -1.  0.  0.  0.  0.]\n"
     ]
    }
   ],
   "source": [
    "from icet import ClusterSpace\n",
    "from icet.tools.structure_generation import (generate_sqs,\n",
    "                                             generate_sqs_from_supercells,\n",
    "                                             generate_sqs_by_enumeration,\n",
    "                                             generate_target_structure)\n",
    "\n",
    "from icet.input_output.logging_tools import set_log_config\n",
    "set_log_config(level='INFO')\n",
    "cs = ClusterSpace(structure = a2, cutoffs=[8.0, 4.0], chemical_symbols=['Au', 'Pd'] )\n",
    "print(cs)\n",
    "target_concentrations = {'Au':0.5, 'Pd':0.5}\n",
    "sqs = generate_sqs(cluster_space=cs,\n",
    "            max_size=16,\n",
    "            target_concentrations=target_concentrations)\n",
    "print('Cluster vector of generated structure:', cs.get_cluster_vector(sqs))"
   ]
  },
  {
   "cell_type": "code",
   "execution_count": 39,
   "id": "868033b4",
   "metadata": {},
   "outputs": [
    {
     "name": "stdout",
     "output_type": "stream",
     "text": [
      "<bound method ClusterSpace.get_coordinates_of_representative_cluster of ClusterSpace(structure=Atoms(symbols='Au', pbc=True, cell=[[0.0, 1.8, 1.8], [1.8, 0.0, 1.8], [1.8, 1.8, 0.0]]), cutoffs=[8.0, 4.0], chemical_symbols=['Au', 'Pd'], position_tolerance=1e-05)>\n",
      "Atoms(symbols='Au', pbc=True, cell=[[0.0, 1.8, 1.8], [1.8, 0.0, 1.8], [1.8, 1.8, 0.0]])\n",
      "icet.orbit_list: INFO  Done getting matrix_of_equivalent_positions.\n",
      "icet.orbit_list: INFO  Done getting neighbor lists.\n",
      "icet.orbit_list: INFO  Transformation of matrix of equivalent positions to lattice neighbor format completed.\n",
      "icet.orbit_list: INFO  Finished construction of orbit list.\n",
      "Atoms(symbols='Co32', pbc=True, cell=[[-2.6240085463681675, -4.532362481964639, 0.006804461526586914], [-0.022925273447376722, 0.02616673569623316, -8.309756303833357], [7.787568745989327, -4.483308436113178, 0.035555891965619195]])\n"
     ]
    }
   ],
   "source": [
    "print(cs.get_coordinates_of_representative_cluster)\n",
    "print(cs.primitive_structure)\n",
    "# print(cs.orbit_data)\n",
    "# print(cs.print_overview())\n",
    "atom_CrCo2Pd = get_atom(CrCo2Pd_sqshcp)\n",
    "cs_CrCo2Pd_sqshcp = ClusterSpace(structure = atom_CrCo2Pd, cutoffs=[12,8,4], chemical_symbols=['Cr', 'Co', 'Pd'])\n",
    "print(cs_CrCo2Pd_sqshcp.primitive_structure)"
   ]
  },
  {
   "cell_type": "code",
   "execution_count": 70,
   "id": "2f9fa97b",
   "metadata": {},
   "outputs": [
    {
     "name": "stdout",
     "output_type": "stream",
     "text": [
      "Cell([[0.0, -1.8, -1.8], [-7.2, 3.6, -3.6000000000000005], [7.199999999999999, 3.6, -3.600000000000001]])\n",
      "[[ 5.40000000e+00  1.80000000e+00 -3.60000000e+00]\n",
      " [ 1.80000000e+00  3.60000000e+00 -5.40000000e+00]\n",
      " [ 1.80000000e+00  1.80000000e+00 -3.60000000e+00]\n",
      " [ 3.60000000e+00  3.60000000e+00 -3.60000000e+00]\n",
      " [ 1.80000000e+00  1.11022302e-16 -1.80000000e+00]\n",
      " [ 3.60000000e+00  1.80000000e+00 -1.80000000e+00]\n",
      " [-1.80000000e+00  3.60000000e+00 -5.40000000e+00]\n",
      " [-7.99360578e-16  5.40000000e+00 -5.40000000e+00]\n",
      " [-1.80000000e+00  1.80000000e+00 -3.60000000e+00]\n",
      " [-1.73194792e-15  3.60000000e+00 -3.60000000e+00]\n",
      " [-1.80000000e+00 -4.99600361e-17 -1.80000000e+00]\n",
      " [-1.73194792e-15  1.80000000e+00 -1.80000000e+00]\n",
      " [-1.59872116e-15  0.00000000e+00 -1.59872116e-15]\n",
      " [-5.40000000e+00  1.80000000e+00 -3.60000000e+00]\n",
      " [-3.60000000e+00  3.60000000e+00 -3.60000000e+00]\n",
      " [-3.60000000e+00  1.80000000e+00 -1.80000000e+00]]\n",
      "Au2Pd3AuPdAuPdAu2Pd2Au2Pd\n",
      "[ True  True  True]\n",
      "[79 79 46 46 46 79 46 79 46 79 79 46 46 79 79 46]\n",
      "16\n",
      "6     P m\n",
      "  setting 1\n",
      "  centrosymmetric 0\n",
      "  primitive vectors\n",
      "     1.0000000000  0.0000000000  0.0000000000\n",
      "     0.0000000000  1.0000000000  0.0000000000\n",
      "     0.0000000000  0.0000000000  1.0000000000\n",
      "  reciprocal vectors\n",
      "      1   0   0\n",
      "      0   1   0\n",
      "      0   0   1\n",
      "  1 subtranslations\n",
      "     0.0000000000  0.0000000000  0.0000000000\n",
      "  2 symmetry operations (rot+trans)\n",
      "    1  0  0     0  1  0     0  0  1    0.0000000000  0.0000000000  0.0000000000\n",
      "    1  0  0     0 -1  0     0  0  1    0.0000000000  0.0000000000  0.0000000000\n",
      "\n",
      "\n"
     ]
    }
   ],
   "source": [
    "# print the information of the SQS structures.\n",
    "print(sqs.get_cell())\n",
    "print(sqs.positions)\n",
    "print(sqs.symbols)\n",
    "# print(sqs.todict())\n",
    "print(sqs.pbc)\n",
    "print(sqs.numbers)\n",
    "print(len(sqs.positions))\n",
    "print(get_spacegroup(sqs))\n",
    "\n",
    "from icet.tools import get_primitive_structure\n",
    "# primitive_sqs = get_primitive_structure(sqs)\n",
    "# print(primitive_sqs.positions)\n",
    "# print(primitive_sqs.symbols)"
   ]
  },
  {
   "cell_type": "code",
   "execution_count": 59,
   "id": "a11abe20",
   "metadata": {},
   "outputs": [
    {
     "data": {
      "application/vnd.jupyter.widget-view+json": {
       "model_id": "4a2b39f438ab483ba6931e72f7fd33e7",
       "version_major": 2,
       "version_minor": 0
      },
      "text/plain": [
       "HBox(children=(NGLWidget(), VBox(children=(Dropdown(description='Show', options=('All', 'Pd', 'Au'), value='Al…"
      ]
     },
     "metadata": {},
     "output_type": "display_data"
    }
   ],
   "source": [
    "view(sqs, viewer='ngl')"
   ]
  },
  {
   "cell_type": "code",
   "execution_count": 73,
   "id": "1e56bc88",
   "metadata": {},
   "outputs": [
    {
     "name": "stdout",
     "output_type": "stream",
     "text": [
      "icet.orbit_list: INFO  Done getting matrix_of_equivalent_positions.\n",
      "icet.orbit_list: INFO  Done getting neighbor lists.\n",
      "icet.orbit_list: INFO  Transformation of matrix of equivalent positions to lattice neighbor format completed.\n",
      "icet.orbit_list: INFO  Finished construction of orbit list.\n",
      "Cluster vector of generated structure: [ 1.  0.  0.  0.  0.  0.  0.  0.  0. -1.  0.  0.  0.  0.]\n",
      "Cell([[0.0, -1.8, -1.8], [-7.2, 3.6, -3.6000000000000005], [7.2, 3.6000000000000005, -3.6]])\n",
      "[[ 0.00000000e+00  0.00000000e+00  0.00000000e+00]\n",
      " [ 1.80000000e+00 -2.22044605e-16 -1.80000000e+00]\n",
      " [ 3.60000000e+00  1.80000000e+00 -1.80000000e+00]\n",
      " [ 5.40000000e+00  1.80000000e+00 -3.60000000e+00]\n",
      " [-5.40000000e+00  1.80000000e+00 -3.60000000e+00]\n",
      " [-3.60000000e+00  3.60000000e+00 -3.60000000e+00]\n",
      " [-1.80000000e+00  3.60000000e+00 -5.40000000e+00]\n",
      " [-1.11022302e-15  5.40000000e+00 -5.40000000e+00]\n",
      " [-3.60000000e+00  1.80000000e+00 -1.80000000e+00]\n",
      " [-1.80000000e+00  1.80000000e+00 -3.60000000e+00]\n",
      " [-1.28785871e-15  3.60000000e+00 -3.60000000e+00]\n",
      " [ 1.80000000e+00  3.60000000e+00 -5.40000000e+00]\n",
      " [-1.80000000e+00 -1.83186799e-16 -1.80000000e+00]\n",
      " [-4.44089210e-16  1.80000000e+00 -1.80000000e+00]\n",
      " [ 1.80000000e+00  1.80000000e+00 -3.60000000e+00]\n",
      " [ 3.60000000e+00  3.60000000e+00 -3.60000000e+00]]\n",
      "AuPd5AuPdAu2PdAuPdAu3\n",
      "[ True  True  True]\n",
      "[79 46 46 46 46 46 79 46 79 79 46 79 46 79 79 79]\n",
      "16\n"
     ]
    }
   ],
   "source": [
    "set_log_config(level='INFO')\n",
    "cs = ClusterSpace(structure = a2, cutoffs=[8.0, 4.0], chemical_symbols=['Au', 'Pd'] )\n",
    "target_concentrations = {'Au':0.5, 'Pd':0.5}\n",
    "sqs = generate_sqs_by_enumeration(cluster_space=cs,\n",
    "            max_size=16,\n",
    "            target_concentrations=target_concentrations,\n",
    "            pbc = (True, True, True),\n",
    "            tol=1e-5)\n",
    "print('Cluster vector of generated structure:', cs.get_cluster_vector(sqs))\n",
    "# print the information of the SQS structures.\n",
    "print(sqs.get_cell())\n",
    "print(sqs.positions)\n",
    "print(sqs.symbols)\n",
    "# print(sqs.todict())\n",
    "print(sqs.pbc)\n",
    "print(sqs.numbers)\n",
    "print(len(sqs.positions))"
   ]
  },
  {
   "cell_type": "code",
   "execution_count": 42,
   "id": "a1445bd6",
   "metadata": {},
   "outputs": [
    {
     "name": "stdout",
     "output_type": "stream",
     "text": [
      "Atoms(symbols='Co32', pbc=True, cell=[[-2.6240085463681675, -4.532362481964639, 0.006804461526586914], [-0.022925273447376722, 0.02616673569623316, -8.309756303833357], [7.787568745989327, -4.483308436113178, 0.035555891965619195]])\n",
      "icet.orbit_list: INFO  Done getting matrix_of_equivalent_positions.\n",
      "icet.orbit_list: INFO  Done getting neighbor lists.\n",
      "icet.orbit_list: INFO  Transformation of matrix of equivalent positions to lattice neighbor format completed.\n",
      "icet.orbit_list: INFO  Finished construction of orbit list.\n"
     ]
    }
   ],
   "source": [
    "print(cs_CrCo2Pd_sqshcp.primitive_structure)\n",
    "pm = cs_CrCo2Pd_sqshcp.primitive_structure\n",
    "# print(cs_CrCo2Pd_sqshcp)\n",
    "cs_pm = ClusterSpace(structure = pm, cutoffs=[12,8,4], chemical_symbols=['Cr', 'Co', 'Pd'])\n"
   ]
  },
  {
   "cell_type": "code",
   "execution_count": 43,
   "id": "33618ae4",
   "metadata": {},
   "outputs": [
    {
     "name": "stdout",
     "output_type": "stream",
     "text": [
      "====================================== Cluster Space =======================================\n",
      " space group                            : P1 (1)\n",
      " chemical species                       : ['Co', 'Cr', 'Pd'] (sublattice A)\n",
      " cutoffs                                : 12.0000 8.0000 4.0000\n",
      " total number of parameters             : 575941\n",
      " number of parameters by order          : 0= 1  1= 64  2= 36804  3= 529504  4= 9568\n",
      " fractional_position_tolerance          : 1e-06\n",
      " position_tolerance                     : 1e-05\n",
      " symprec                                : 1e-05\n",
      "--------------------------------------------------------------------------------------------\n",
      "index  | order |  radius  | multiplicity | orbit_index | multicomponent_vector | sublattices\n",
      "--------------------------------------------------------------------------------------------\n",
      "   0  |   0   |   0.0000 |        1     |      -1     |           .           |      .     \n",
      "   1  |   1   |   0.0000 |        1     |       0     |          [0]          |      A     \n",
      "   2  |   1   |   0.0000 |        1     |       0     |          [1]          |      A     \n",
      "   3  |   1   |   0.0000 |        1     |       1     |          [0]          |      A     \n",
      "   4  |   1   |   0.0000 |        1     |       1     |          [1]          |      A     \n",
      "   5  |   1   |   0.0000 |        1     |       2     |          [0]          |      A     \n",
      "   6  |   1   |   0.0000 |        1     |       2     |          [1]          |      A     \n",
      "   7  |   1   |   0.0000 |        1     |       3     |          [0]          |      A     \n",
      "   8  |   1   |   0.0000 |        1     |       3     |          [1]          |      A     \n",
      "   9  |   1   |   0.0000 |        1     |       4     |          [0]          |      A     \n",
      " ...\n",
      "575931 |   4   |   1.9441 |        1     |    76018    |     [0, 1, 1, 0]      |   A-A-A-A  \n",
      "575932 |   4   |   1.9441 |        1     |    76018    |     [0, 1, 1, 1]      |   A-A-A-A  \n",
      "575933 |   4   |   1.9441 |        1     |    76018    |     [1, 0, 0, 0]      |   A-A-A-A  \n",
      "575934 |   4   |   1.9441 |        1     |    76018    |     [1, 0, 0, 1]      |   A-A-A-A  \n",
      "575935 |   4   |   1.9441 |        1     |    76018    |     [1, 0, 1, 0]      |   A-A-A-A  \n",
      "575936 |   4   |   1.9441 |        1     |    76018    |     [1, 0, 1, 1]      |   A-A-A-A  \n",
      "575937 |   4   |   1.9441 |        1     |    76018    |     [1, 1, 0, 0]      |   A-A-A-A  \n",
      "575938 |   4   |   1.9441 |        1     |    76018    |     [1, 1, 0, 1]      |   A-A-A-A  \n",
      "575939 |   4   |   1.9441 |        1     |    76018    |     [1, 1, 1, 0]      |   A-A-A-A  \n",
      "575940 |   4   |   1.9441 |        1     |    76018    |     [1, 1, 1, 1]      |   A-A-A-A  \n",
      "============================================================================================\n"
     ]
    }
   ],
   "source": [
    "print(cs_pm)"
   ]
  },
  {
   "cell_type": "code",
   "execution_count": 77,
   "id": "b968c6a4",
   "metadata": {},
   "outputs": [
    {
     "ename": "KeyError",
     "evalue": "'no match'",
     "output_type": "error",
     "traceback": [
      "\u001b[1;31m---------------------------------------------------------------------------\u001b[0m",
      "\u001b[1;31mKeyError\u001b[0m                                  Traceback (most recent call last)",
      "\u001b[1;32m~\\AppData\\Local\\Temp/ipykernel_2372/4199234461.py\u001b[0m in \u001b[0;36m<module>\u001b[1;34m\u001b[0m\n\u001b[0;32m      6\u001b[0m \u001b[1;33m\u001b[0m\u001b[0m\n\u001b[0;32m      7\u001b[0m \u001b[0mdb\u001b[0m \u001b[1;33m=\u001b[0m \u001b[0mconnect\u001b[0m\u001b[1;33m(\u001b[0m\u001b[1;34m'reference_data.db'\u001b[0m\u001b[1;33m)\u001b[0m\u001b[1;33m\u001b[0m\u001b[1;33m\u001b[0m\u001b[0m\n\u001b[1;32m----> 8\u001b[1;33m \u001b[0mprimitive_structure\u001b[0m \u001b[1;33m=\u001b[0m \u001b[0mdb\u001b[0m\u001b[1;33m.\u001b[0m\u001b[0mget\u001b[0m\u001b[1;33m(\u001b[0m\u001b[0mid\u001b[0m\u001b[1;33m=\u001b[0m\u001b[1;36m0\u001b[0m\u001b[1;33m)\u001b[0m\u001b[1;33m.\u001b[0m\u001b[0mtoatoms\u001b[0m\u001b[1;33m(\u001b[0m\u001b[1;33m)\u001b[0m  \u001b[1;31m# primitive structure\u001b[0m\u001b[1;33m\u001b[0m\u001b[1;33m\u001b[0m\u001b[0m\n\u001b[0m\u001b[0;32m      9\u001b[0m \u001b[1;31m# connect('abc.db')\u001b[0m\u001b[1;33m\u001b[0m\u001b[1;33m\u001b[0m\u001b[1;33m\u001b[0m\u001b[0m\n",
      "\u001b[1;32mE:\\Software\\Anaconda\\envs\\hea_cu113\\lib\\site-packages\\ase\\db\\core.py\u001b[0m in \u001b[0;36mget\u001b[1;34m(self, selection, **kwargs)\u001b[0m\n\u001b[0;32m    430\u001b[0m         \u001b[0mrows\u001b[0m \u001b[1;33m=\u001b[0m \u001b[0mlist\u001b[0m\u001b[1;33m(\u001b[0m\u001b[0mself\u001b[0m\u001b[1;33m.\u001b[0m\u001b[0mselect\u001b[0m\u001b[1;33m(\u001b[0m\u001b[0mselection\u001b[0m\u001b[1;33m,\u001b[0m \u001b[0mlimit\u001b[0m\u001b[1;33m=\u001b[0m\u001b[1;36m2\u001b[0m\u001b[1;33m,\u001b[0m \u001b[1;33m**\u001b[0m\u001b[0mkwargs\u001b[0m\u001b[1;33m)\u001b[0m\u001b[1;33m)\u001b[0m\u001b[1;33m\u001b[0m\u001b[1;33m\u001b[0m\u001b[0m\n\u001b[0;32m    431\u001b[0m         \u001b[1;32mif\u001b[0m \u001b[1;32mnot\u001b[0m \u001b[0mrows\u001b[0m\u001b[1;33m:\u001b[0m\u001b[1;33m\u001b[0m\u001b[1;33m\u001b[0m\u001b[0m\n\u001b[1;32m--> 432\u001b[1;33m             \u001b[1;32mraise\u001b[0m \u001b[0mKeyError\u001b[0m\u001b[1;33m(\u001b[0m\u001b[1;34m'no match'\u001b[0m\u001b[1;33m)\u001b[0m\u001b[1;33m\u001b[0m\u001b[1;33m\u001b[0m\u001b[0m\n\u001b[0m\u001b[0;32m    433\u001b[0m         \u001b[1;32massert\u001b[0m \u001b[0mlen\u001b[0m\u001b[1;33m(\u001b[0m\u001b[0mrows\u001b[0m\u001b[1;33m)\u001b[0m \u001b[1;33m==\u001b[0m \u001b[1;36m1\u001b[0m\u001b[1;33m,\u001b[0m \u001b[1;34m'more than one row matched'\u001b[0m\u001b[1;33m\u001b[0m\u001b[1;33m\u001b[0m\u001b[0m\n\u001b[0;32m    434\u001b[0m         \u001b[1;32mreturn\u001b[0m \u001b[0mrows\u001b[0m\u001b[1;33m[\u001b[0m\u001b[1;36m0\u001b[0m\u001b[1;33m]\u001b[0m\u001b[1;33m\u001b[0m\u001b[1;33m\u001b[0m\u001b[0m\n",
      "\u001b[1;31mKeyError\u001b[0m: 'no match'"
     ]
    }
   ],
   "source": [
    "# print(cs_CrCo2Pd_sqshcp)\n",
    "# prepairing a cluster space\n",
    "\n",
    "from ase.db import connect\n",
    "from trainstation import CrossValidationEstimator\n",
    "\n",
    "db = connect('reference_data.db')\n",
    "primitive_structure = db.get(id=0).toatoms()  # primitive structure\n",
    "# connect('abc.db')"
   ]
  },
  {
   "cell_type": "code",
   "execution_count": 20,
   "id": "3bdf07db",
   "metadata": {},
   "outputs": [
    {
     "data": {
      "application/vnd.jupyter.widget-view+json": {
       "model_id": "5f6f452298df457bb8d7ee8a68b3c76c",
       "version_major": 2,
       "version_minor": 0
      },
      "text/plain": [
       "HBox(children=(NGLWidget(), VBox(children=(Dropdown(description='Show', options=('All', 'Cu'), value='All'), D…"
      ]
     },
     "metadata": {},
     "output_type": "display_data"
    }
   ],
   "source": [
    "supercells = a1.repeat((1,2,4))\n",
    "view(supercells, viewer='ngl')"
   ]
  },
  {
   "cell_type": "code",
   "execution_count": 22,
   "id": "616dcf06",
   "metadata": {},
   "outputs": [
    {
     "name": "stdout",
     "output_type": "stream",
     "text": [
      "icet.target_cluster_vector_annealing: INFO  Initializing target cluster vector annealing with 1 supercells\n",
      "icet.target_cluster_vector_annealing: INFO  MC step 0/10000 (0 accepted trials, temperature 5.000), best score: 1.667\n",
      "icet.target_cluster_vector_annealing: INFO  MC step 1000/10000 (499 accepted trials, temperature 1.251), best score: -0.800\n",
      "icet.target_cluster_vector_annealing: INFO  MC step 2000/10000 (880 accepted trials, temperature 0.875), best score: -0.800\n",
      "icet.target_cluster_vector_annealing: INFO  MC step 3000/10000 (1126 accepted trials, temperature 0.654), best score: -0.800\n",
      "icet.target_cluster_vector_annealing: INFO  MC step 4000/10000 (1318 accepted trials, temperature 0.498), best score: -0.800\n",
      "icet.target_cluster_vector_annealing: INFO  MC step 5000/10000 (1459 accepted trials, temperature 0.377), best score: -0.800\n",
      "icet.target_cluster_vector_annealing: INFO  MC step 6000/10000 (1582 accepted trials, temperature 0.278), best score: -0.800\n",
      "icet.target_cluster_vector_annealing: INFO  MC step 7000/10000 (1715 accepted trials, temperature 0.195), best score: -0.800\n",
      "icet.target_cluster_vector_annealing: INFO  MC step 8000/10000 (1827 accepted trials, temperature 0.122), best score: -0.800\n",
      "icet.target_cluster_vector_annealing: INFO  MC step 9000/10000 (1929 accepted trials, temperature 0.058), best score: -0.800\n",
      "Cluster vector of generated structure: [ 1.          0.          0.          0.         -0.08333333  0.5\n",
      " -0.16666667  0.         -0.08333333  0.          0.         -0.16666667\n",
      "  0.          0.        ]\n"
     ]
    }
   ],
   "source": [
    "# generate binary SQS from supercell\n",
    "sqs = generate_sqs_from_supercells(cluster_space=cs,\n",
    "                                   supercells=[supercells],\n",
    "                                   n_steps=10000,\n",
    "                                   target_concentrations=target_concentrations)\n",
    "print('Cluster vector of generated structure:', cs.get_cluster_vector(sqs))"
   ]
  },
  {
   "cell_type": "code",
   "execution_count": 23,
   "id": "747ae0c4",
   "metadata": {},
   "outputs": [
    {
     "name": "stdout",
     "output_type": "stream",
     "text": [
      "Cluster vector of generated structure: [ 1.          0.          0.          0.         -0.08333333  0.5\n",
      " -0.16666667  0.         -0.08333333  0.          0.         -0.16666667\n",
      "  0.          0.        ]\n"
     ]
    }
   ],
   "source": [
    "# generate SQS by enmeration\n",
    "sqs = generate_sqs_by_enumeration(cluster_space=cs,\n",
    "                                  max_size=8,\n",
    "                                  target_concentrations=target_concentrations)\n",
    "print('Cluster vector of generated structure:', cs.get_cluster_vector(sqs))"
   ]
  },
  {
   "cell_type": "code",
   "execution_count": 30,
   "id": "c0dda28a",
   "metadata": {},
   "outputs": [
    {
     "data": {
      "image/png": "[encoded data removed]",
      "text/plain": [
       "<Figure size 432x288 with 2 Axes>"
      ]
     },
     "metadata": {
      "needs_background": "light"
     },
     "output_type": "display_data"
    }
   ],
   "source": [
    "import matplotlib.pyplot as plt\n",
    "import matplotlib.tri as tri\n",
    "import numpy as np\n",
    "# Create triangulation.\n",
    "x = np.asarray([0, 1, 2, 3, 0.5,\n",
    "                1.5, 2.5, 1, 2, 1.5])\n",
    "  \n",
    "y = np.asarray([0, 0, 0, 0, 1.0, \n",
    "                1.0, 1.0, 2, 2, 3.0])\n",
    "  \n",
    "triangles = [[0, 1, 4], [1, 5, 4],\n",
    "             [2, 6, 5], [4, 5, 7],\n",
    "             [5, 6, 8], [5, 8, 7],\n",
    "             [7, 8, 9], [1, 2, 5], \n",
    "             [2, 3, 6]]\n",
    "  \n",
    "triang = tri.Triangulation(x, y, triangles)\n",
    "z = np.cos(3 * x) * np.cos(6 * y)+np.sin(6 * x)\n",
    "      \n",
    "fig, axs = plt.subplots()\n",
    "t = axs.tricontourf(triang, z)\n",
    "axs.tricontour(triang, z, colors ='white')\n",
    "fig.colorbar(t)\n",
    "  \n",
    "fig.suptitle('matplotlib.pyplot.tricontour() Example') \n",
    "plt.show()"
   ]
  },
  {
   "cell_type": "code",
   "execution_count": 38,
   "id": "2ad23ed2",
   "metadata": {},
   "outputs": [
    {
     "data": {
      "image/png": "[encoded data removed]",
      "text/plain": [
       "<Figure size 432x288 with 2 Axes>"
      ]
     },
     "metadata": {
      "needs_background": "light"
     },
     "output_type": "display_data"
    }
   ],
   "source": [
    "import matplotlib.pyplot as plt\n",
    "import matplotlib.tri as mtri\n",
    "import numpy as np\n",
    "# Create triangulation.\n",
    "x = np.asarray([0, 0.5, 1, 3, 0.5, 1.5, 2.5, 1, 2, 1.5])\n",
    "y = np.asarray([0, 0,   0, 0, 1.0, 1.0, 1.0, 2, 2, 3.0])\n",
    "  \n",
    "# triangles = [[0, 1, 4], [1, 5, 4],\n",
    "#              [2, 6, 5], [4, 5, 7],\n",
    "#              [5, 6, 8], [5, 8, 7],\n",
    "#              [7, 8, 9], [1, 2, 5], \n",
    "#              [2, 3, 6]]\n",
    "  \n",
    "triang = mtri.Triangulation(x, y)\n",
    "z = np.cos(3 * x) * np.cos(6 * y)+np.sin(6 * x)\n",
    "      \n",
    "fig, axs = plt.subplots()\n",
    "t = axs.tricontourf(triang, z)\n",
    "# plot the triangle\n",
    "# axs.triplot(triang, 'ko-')\n",
    "# interpolate\n",
    "interp_lin = mtri.LinearTriInterpolator(triang, z)\n",
    "xi, yi = np.meshgrid(np.linspace(0, 3, 20), np.linspace(0, 3, 20))\n",
    "zi_lin = interp_lin(xi, yi)\n",
    "axs.contourf(xi, yi, zi_lin)\n",
    "# axs.tricontour(triang, z, colors ='white')\n",
    "fig.colorbar(t)\n",
    "  \n",
    "fig.suptitle('matplotlib.pyplot.tricontour() Example') \n",
    "plt.show()"
   ]
  },
  {
   "cell_type": "code",
   "execution_count": 117,
   "id": "ab397bf8",
   "metadata": {},
   "outputs": [
    {
     "name": "stdout",
     "output_type": "stream",
     "text": [
      "total number of structures are 64\n"
     ]
    }
   ],
   "source": [
    "### read the poscacrs and properties\n",
    "from collections import defaultdict\n",
    "\n",
    "def count_info(path):\n",
    "    filename = os.listdir(path)\n",
    "    print('total number of structures are {}'.format(len(filename)))\n",
    "    my_dict = defaultdict(int)\n",
    "    for f in filename:\n",
    "        mat = os.path.join(path, f)\n",
    "        poscar = Poscar.from_file(mat)\n",
    "        symbol_set = poscar.structure.symbol_set\n",
    "        my_dict[symbol_set]+=1\n",
    "    return my_dict\n",
    "result = count_info(ternary_hcp)  \n",
    "POSCARS = os.path.join('./', 'HEA_Data/POSCARS')\n",
    "# poscars_list = os.listdir(POSCARS)\n",
    "# count_info(POSCARS)\n",
    "# count_info(ternary_fcc_bcc)\n",
    "# count_info(ternary_hcp)\n",
    "\n",
    "def obtain_combinations(target_species):\n",
    "    n = len(target_species)\n",
    "    total_combinations = []\n",
    "    for i in range(1,n+1):\n",
    "        total_combinations.extend(list(combinations(target_species, i)))\n",
    "    total_combinations = [set(i) for i in total_combinations]\n",
    "    return total_combinations\n",
    "def obtain_species(target_species):\n",
    "    \"\"\"\n",
    "    target_species = ['Co', 'Cr', 'Mn']\n",
    "    \"\"\"\n",
    "    POSCARS = os.path.join('./', 'HEA_Data/POSCARS')\n",
    "    poscars_list = os.listdir(POSCARS)\n",
    "    total_combinations = obtain_combinations(target_species)\n",
    "    species_result, fcc_result, bcc_result, hcp_result = defaultdict(int), defaultdict(int), defaultdict(int) ,defaultdict(int)\n",
    "    ans , fcc_ans, bcc_ans, hcp_ans= [], [], [], []\n",
    "    PHASE='fcc'\n",
    "    for f in poscars_list:\n",
    "        mat = os.path.join(POSCARS, f)\n",
    "        if PHASE:\n",
    "            phase_name = f.split('_')[1]\n",
    "            if phase_name=='sqsfcc':\n",
    "                poscar = Poscar.from_file(mat)\n",
    "                symbol_set = poscar.structure.symbol_set\n",
    "                formula = poscar.structure.composition.formula\n",
    "                a_formula = poscar.structure.composition.alphabetical_formula\n",
    "                if set(symbol_set) in total_combinations:\n",
    "                    fcc_ans.append(f)\n",
    "                    fcc_result[a_formula]+=1\n",
    "            elif phase_name=='sqsbcc':\n",
    "                poscar = Poscar.from_file(mat)\n",
    "                symbol_set = poscar.structure.symbol_set\n",
    "                formula = poscar.structure.composition.formula\n",
    "                a_formula = poscar.structure.composition.alphabetical_formula\n",
    "                if set(symbol_set) in total_combinations:\n",
    "                    bcc_ans.append(f)\n",
    "                    bcc_result[a_formula]+=1\n",
    "            else:\n",
    "                poscar = Poscar.from_file(mat)    \n",
    "                symbol_set = poscar.structure.symbol_set\n",
    "                formula = poscar.structure.composition.formula\n",
    "                a_formula = poscar.structure.composition.alphabetical_formula\n",
    "                if set(symbol_set) in total_combinations:\n",
    "                    hcp_ans.append(f)\n",
    "                    hcp_result[a_formula]+=1\n",
    "        else:\n",
    "            symbol_set = poscar.structure.symbol_set\n",
    "            formula = poscar.structure.composition.formula\n",
    "            a_formula = poscar.structure.composition.alphabetical_formula\n",
    "            if set(symbol_set) in total_combinations:\n",
    "                ans.append(f)\n",
    "                species_result[a_formula]+=1\n",
    "    if PHASE:\n",
    "        if PHASE=='fcc':\n",
    "            return fcc_ans, fcc_result\n",
    "        elif PHASE=='bcc':\n",
    "            return bcc_ans, bcc_result\n",
    "        else:\n",
    "            return hcp_ans, hcp_result\n",
    "    else:\n",
    "        return ans, species_result\n",
    "     \n",
    "# obtain_combinations( ['Co', 'Cr', 'Mn'])\n",
    "ans, species_result = obtain_species( ['Co', 'Cr', 'Mn'])"
   ]
  },
  {
   "cell_type": "code",
   "execution_count": 118,
   "id": "72c9279b",
   "metadata": {},
   "outputs": [
    {
     "name": "stdout",
     "output_type": "stream",
     "text": [
      "['Co2CrMn_sqshcp', 'CoCr2Mn_sqshcp', 'CoCrMn2_sqshcp', 'CoCrMn_sqshcp', 'Cr2CoMn_sqshcp', 'CrCo2Mn_sqshcp', 'CrCoMn2_sqshcp', 'CrCoMn_sqshcp']\n",
      "8\n"
     ]
    },
    {
     "data": {
      "text/plain": [
       "defaultdict(int,\n",
       "            {'Co16 Cr8 Mn8': 2,\n",
       "             'Co8 Cr16 Mn8': 2,\n",
       "             'Co8 Cr8 Mn16': 2,\n",
       "             'Co12 Cr12 Mn12': 2})"
      ]
     },
     "execution_count": 118,
     "metadata": {},
     "output_type": "execute_result"
    }
   ],
   "source": [
    "print(ans)\n",
    "print(len(ans))\n",
    "species_result"
   ]
  },
  {
   "cell_type": "code",
   "execution_count": 109,
   "id": "bdac696c",
   "metadata": {},
   "outputs": [
    {
     "data": {
      "text/plain": [
       "['Co2CrMn', 'sqsbcc']"
      ]
     },
     "execution_count": 109,
     "metadata": {},
     "output_type": "execute_result"
    }
   ],
   "source": [
    "'Co2CrMn_sqsbcc'.split('_')"
   ]
  },
  {
   "cell_type": "code",
   "execution_count": null,
   "id": "e1172fce",
   "metadata": {},
   "outputs": [],
   "source": []
  }
 ],
 "metadata": {
  "kernelspec": {
   "display_name": "Python 3 (ipykernel)",
   "language": "python",
   "name": "python3"
  },
  "language_info": {
   "codemirror_mode": {
    "name": "ipython",
    "version": 3
   },
   "file_extension": ".py",
   "mimetype": "text/x-python",
   "name": "python",
   "nbconvert_exporter": "python",
   "pygments_lexer": "ipython3",
   "version": "3.8.12"
  }
 },
 "nbformat": 4,
 "nbformat_minor": 5
}
