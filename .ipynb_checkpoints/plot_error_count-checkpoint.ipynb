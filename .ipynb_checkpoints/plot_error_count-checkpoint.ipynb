{
 "cells": [
  {
   "cell_type": "code",
   "execution_count": 10,
   "id": "68092868",
   "metadata": {},
   "outputs": [],
   "source": [
    "import matplotlib.pyplot as plt\n",
    "import torch\n",
    "from utils.registry import registry, setup_imports\n",
    "from sklearn.metrics import r2_score, mean_absolute_error\n",
    "import seaborn as sns\n",
    "import os\n",
    "from scipy import stats"
   ]
  },
  {
   "cell_type": "code",
   "execution_count": 11,
   "id": "86879409",
   "metadata": {},
   "outputs": [],
   "source": [
    "from trainer_heanet_mtl import validate_model, evaluate, load_mp_data\n",
    "from trainer_heanet_mtl_HEA import load_hea_data, load_hea_data_single_file\n",
    "from datasets.Mp_dataset import MpGeometricDataset\n",
    "from datasets.preprocessing import PoscarToGraph"
   ]
  },
  {
   "cell_type": "code",
   "execution_count": 12,
   "id": "ed330493",
   "metadata": {},
   "outputs": [],
   "source": [
    "\n",
    "device = torch.device(device='cuda' if torch.cuda.is_available() else 'cpu')\n",
    "\n",
    "\n",
    "def load_model(model_name, hidden_channels=128, n_filters=64, n_interactions=3,\n",
    "               n_gaussians=50, cutoff=10, num_tasks=2, tower_h1=128,\n",
    "               tower_h2=64):\n",
    "    \"\"\"\n",
    "    load the trained ML models given the model_name.\n",
    "    It should be noted that the hyper parameters are assigned according to the specific trained hyper parameters.\n",
    "\n",
    "    args:\n",
    "        model_name: str. the name of the trained model.\n",
    "        For example: './saved_models/ms_type0_300.pt'\n",
    "    \"\"\"\n",
    "    # load the ML model.\n",
    "    setup_imports()\n",
    "    device = torch.device(device='cuda' if torch.cuda.is_available() else 'cpu')\n",
    "    model = registry.get_model('heanet'\n",
    "                               )(hidden_channels=hidden_channels,\n",
    "                                 num_filters=n_filters,\n",
    "                                 num_interactions=n_interactions,\n",
    "                                 num_gaussians=n_gaussians,\n",
    "                                 cutoff=cutoff,\n",
    "                                 readout='add',\n",
    "                                 dipole=False, mean=None, std=None,\n",
    "                                 atomref=None, num_tasks=num_tasks,\n",
    "                                 tower_h1=tower_h1,\n",
    "                                 tower_h2=tower_h2)\n",
    "    # load parameters of trained model\n",
    "    model_state = torch.load(model_name, map_location=device)\n",
    "    model.load_state_dict(model_state)\n",
    "    model.to(device)\n",
    "    return model\n",
    "\n"
   ]
  },
  {
   "cell_type": "code",
   "execution_count": 18,
   "id": "9e7744e0",
   "metadata": {},
   "outputs": [],
   "source": [
    "class ModelPrediction(object):\n",
    "    \"\"\" Assign the parameters for model and datasets.\n",
    "\n",
    "    When tasks come from Multi-target learning model, it should be a list including str, such as ['ef', 'eg'].\n",
    "    At the same time, the transforms should be like ['scaling', 'scaling']\n",
    "    \n",
    "    Args:\n",
    "        model_name (str): The saved model name.\n",
    "        tasks (List[str], optional): What tasks to predict, which is related to the model.\n",
    "            (default: ['ef', 'eg'])\n",
    "        transforms (List[str], optional): The data will be transformed with specific transformation type. For \n",
    "            example, the 'scaling', 'log', etc.\n",
    "        hidden_channels (int, optional): number of hidden channels for the embeddings\n",
    "            (default: 128)\n",
    "        n_filters (int, optional): number of filters\n",
    "            (default: 64)\n",
    "        n_interactions (int, optional): number of interaction blocks\n",
    "            (default: 3)\n",
    "        n_gaussians (int, optional): number of gaussian bases to expand the distances\n",
    "            (default: 50)\n",
    "        cutoff (int, optional): the cutoff radius to consider passing messages\n",
    "            (default: 10)\n",
    "        load_data_func (str): The dataloader object to load the data from dataset.\n",
    "            (default: 'mp')\n",
    "    \"\"\"\n",
    "    def __init__(self, model_name, tasks=None, transforms=None,\n",
    "                 hidden_channels=128, n_filters=64, n_interactions=3,\n",
    "                 n_gaussians=50, cutoff=10, load_data_func='mp'):\n",
    "        if tasks is None:\n",
    "            tasks = ['ef', 'eg']\n",
    "        self.model_name = model_name\n",
    "        self.tasks = tasks\n",
    "        self.transforms = transforms\n",
    "        self.hidden_channels = hidden_channels\n",
    "        self.n_filters=n_filters\n",
    "        self.n_interactions=n_interactions\n",
    "        self.n_gaussians = n_gaussians\n",
    "        self.cutoff=cutoff\n",
    "        if load_data_func=='mp':\n",
    "            self.train_loader, self.validate_loader, self.test_loader = load_mp_data(task=self.tasks, is_validate=True)\n",
    "        else:\n",
    "            self.train_loader, self.validate_loader, self.test_loader = load_hea_data_single_file(split_type=2, is_validate=True)\n",
    "        self.model = self._load_model()\n",
    "    \n",
    "    def _load_model(self):\n",
    "        model = load_model(self.model_name, hidden_channels=self.hidden_channels,\n",
    "                   n_filters=self.n_filters, n_interactions=self.n_interactions,\n",
    "                   n_gaussians=self.n_gaussians, cutoff=self.cutoff)\n",
    "        return model\n",
    "\n",
    "    def obtain_predictions_from_mtl(self):\n",
    "        model=self.model\n",
    "        out_pred, out_true = validate_model(model, self.test_loader, tasks=self.tasks,\n",
    "                                            transforms=self.transforms)\n",
    "        score = evaluate(out_pred, out_true)\n",
    "        print('mae in the test set is {}'.format(score))\n",
    "        return out_true, out_pred\n",
    "\n",
    "    def obtain_predictions_from_stl(self, model_name, task='ef'):\n",
    "        \"\"\"\n",
    "        This function is similar to the test function. It uses the trained model to predict the data.\n",
    "        So, it needs to initialize the model at first. Then, parameters are loaded into the ML model.\n",
    "        :param\n",
    "            model_name: 'str', the ML model name, like  './saved_models_lin_256/k_mp_log_500.pt'.\n",
    "            task: 'str'. The target predictioin.\n",
    "        :return:\n",
    "            y_true: ndarray.\n",
    "            y_pred: ndarray.\n",
    "        \"\"\"\n",
    "        model = load_model(model_name)\n",
    "        model.eval()  # freeze the dropout and BN layer\n",
    "        y_pred = []\n",
    "        y_true = []\n",
    "        with torch.no_grad():\n",
    "            end_time = 0\n",
    "            # for batch in train_loader:\n",
    "            for batch in self.test_loader:\n",
    "                batch.to(device)\n",
    "                out = model(batch.atomic_numbers.long(), batch.pos, batch=batch)\n",
    "                # It does not change the variable at default\n",
    "                # However, we directly compare the log-form data to compare with previous paper.\n",
    "                if task == 'k' or task == 'g':\n",
    "                    y_label = transform('log', batch.__getitem__(task), forward=True)\n",
    "                else:\n",
    "                    y_label = batch.__getitem__(task)\n",
    "                y_true.append(y_label)\n",
    "                # It should scale into the raw range due to the prediction enlarge the original data in case of scaling.\n",
    "                # However, we directly compare the log-form data to compare with previous paper.\n",
    "                if task == 'ef' or task == 'eg':\n",
    "                    out = transform('scaling', out, forward=False)\n",
    "                y_pred.append(out)\n",
    "\n",
    "        y_true = torch.cat(y_true, dim=0).detach().cpu().numpy()\n",
    "        y_pred = torch.cat(y_pred, dim=0).detach().cpu().numpy()\n",
    "\n",
    "        print(y_true.shape, y_pred.shape)\n",
    "        print(y_true, y_pred)\n",
    "        mae_s = mean_absolute_error(y_true, y_pred)\n",
    "        r2_s = r2_score(y_true, y_pred)\n",
    "        print(r2_s, mae_s)\n",
    "        return y_true, y_pred\n",
    "    \n",
    "    def convert_data(self, filename):\n",
    "        \"\"\"\n",
    "        the file name of the poscars\n",
    "        args:\n",
    "            filename: str. './HEA_Data/Binary_POSCAR_Files/POSCAR_Co3Cr_sqsfcc'\n",
    "        \"\"\"\n",
    "        pg = PoscarToGraph(radius=self.cutoff, max_neigh=200)\n",
    "        data = pg.to_graph(filename)\n",
    "        data.to(device=device)\n",
    "        return data\n",
    "\n",
    "    def predict(self, poscar):\n",
    "        \"\"\"\n",
    "        Given a structure in 'POSCAR' format, it will predict its properties according to your requirements.\n",
    "        \n",
    "        \"\"\"\n",
    "        \n",
    "        model = self.model\n",
    "        model.eval()\n",
    "        data = self.convert_data(poscar)\n",
    "        out = model(data.atomic_numbers.long(), data.pos)\n",
    "        return out"
   ]
  },
  {
   "cell_type": "code",
   "execution_count": 19,
   "id": "df2dd0fb",
   "metadata": {},
   "outputs": [
    {
     "name": "stdout",
     "output_type": "stream",
     "text": [
      "loading the processed data from D:\\GitProjects\\HEA_project\\datasets\\mp\n",
      "loading dataset of ef and eg.\n",
      "loading dataset of ef and eg.\n",
      "The total data size is 69239.\n",
      "The training data is set 60000 manually for comparison\n",
      "the score of task 0 is 0.11146018654108047\n",
      "\n",
      "the score of task 1 is 0.24510204792022705\n",
      "\n",
      "mae in the test set is 0.17828111723065376\n"
     ]
    }
   ],
   "source": [
    "mp_mtl = ModelPrediction(model_name='./saved_models_mtl/mtl_2_mp_500_best.pt',\n",
    "                         tasks=['ef' ,'eg'], transforms=['scaling', 'scaling'],\n",
    "                         hidden_channels=128, n_filters=64, n_interactions=3,\n",
    "                         n_gaussians=50, cutoff=10\n",
    "                         )\n",
    "y_true, y_pred = mp_mtl.obtain_predictions_from_mtl()\n"
   ]
  },
  {
   "cell_type": "code",
   "execution_count": 23,
   "id": "21d44e87",
   "metadata": {},
   "outputs": [],
   "source": [
    "# mp_mtl = ModelPrediction(model_name='./saved_models_mtl/mtl_2_mp_ef_eg_128_64_400_best.pt',\n",
    "#                          tasks=['ef' ,'eg'], transforms=['scaling', 'scaling'],\n",
    "#                          hidden_channels=128, n_filters=64, n_interactions=3,\n",
    "#                          n_gaussians=50, cutoff=10\n",
    "#                          )\n",
    "# y_true, y_pred = mp_mtl.obtain_predictions_from_mtl()"
   ]
  },
  {
   "cell_type": "code",
   "execution_count": 20,
   "id": "3c5bbaf7",
   "metadata": {},
   "outputs": [],
   "source": [
    "import numpy as np\n",
    "def plot_error_count(y_true, y_pred):\n",
    "    \"\"\"\n",
    "    plot the error count density figure.\n",
    "    :param y_true: ndarray\n",
    "    :param y_pred: ndarray\n",
    "    :return:\n",
    "        nothing\n",
    "    \"\"\"\n",
    "    bins = 30\n",
    "    save_fig = True\n",
    "    fig_path = './fig'\n",
    "    fig = plt.figure()\n",
    "    percent = np.absolute((y_true - y_pred)/y_true)\n",
    "\n",
    "    # the density is obtained from a kernel density estimatioin with Gaussian kernel\n",
    "    # it do not support for non-Gaussian kernels since version 0.11.0\n",
    "#     fg = sns.kdeplot(data=percent, x='ef [eV/atom]', y='count density [%]')\n",
    "    fg = sns.kdeplot(data=percent)\n",
    "    sns.kdeplot\n",
    "    if save_fig:\n",
    "        plt.savefig(os.path.join(fig_path, 'fig2_error.png'), format='png', bbox_inches='tight')"
   ]
  },
  {
   "cell_type": "code",
   "execution_count": 21,
   "id": "bf1dcda9",
   "metadata": {},
   "outputs": [
    {
     "data": {
      "image/png": "[encoded data removed]",
      "text/plain": [
       "<Figure size 432x288 with 1 Axes>"
      ]
     },
     "metadata": {
      "needs_background": "light"
     },
     "output_type": "display_data"
    }
   ],
   "source": [
    "plot_error_count(y_true[0], y_pred[0])"
   ]
  },
  {
   "cell_type": "code",
   "execution_count": 22,
   "id": "e349f7a8",
   "metadata": {},
   "outputs": [
    {
     "name": "stdout",
     "output_type": "stream",
     "text": [
      "[tensor([[-57.4036]], device='cuda:0', grad_fn=<ScatterAddBackward0>), tensor([[-2.9470]], device='cuda:0', grad_fn=<ScatterAddBackward0>)]\n"
     ]
    }
   ],
   "source": [
    "poscar_dir = './HEA_Data/POSCARS'\n",
    "poscar = os.path.join(poscar_dir, 'CoCr3_sqsbcc')\n",
    "out = mp_mtl.predict(poscar)\n",
    "print(out)"
   ]
  },
  {
   "cell_type": "code",
   "execution_count": null,
   "id": "9e271e7a",
   "metadata": {},
   "outputs": [],
   "source": [
    "hea_mtl = ModelPrediction(model_name='./saved_models_mtl_HEA/mtl_2_ms_mb_HEA_500_b2.pt',\n",
    "                         tasks=['ms' ,'mb'], transforms=[],\n",
    "                         hidden_channels=128, n_filters=64, n_interactions=3,\n",
    "                         n_gaussians=50, cutoff=10\n",
    "                         )\n",
    "y_true, y_pred = mp_mtl.obtain_predictions_from_mtl()"
   ]
  }
 ],
 "metadata": {
  "kernelspec": {
   "display_name": "Python 3 (ipykernel)",
   "language": "python",
   "name": "python3"
  },
  "language_info": {
   "codemirror_mode": {
    "name": "ipython",
    "version": 3
   },
   "file_extension": ".py",
   "mimetype": "text/x-python",
   "name": "python",
   "nbconvert_exporter": "python",
   "pygments_lexer": "ipython3",
   "version": "3.8.12"
  }
 },
 "nbformat": 4,
 "nbformat_minor": 5
}
